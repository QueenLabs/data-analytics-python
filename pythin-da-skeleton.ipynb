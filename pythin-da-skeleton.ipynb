{
 "cells": [
  {
   "cell_type": "markdown",
   "id": "received-pathology",
   "metadata": {
    "toc": true
   },
   "source": [
    "<h1>Table of Contents<span class=\"tocSkip\"></span></h1>\n",
    "<div class=\"toc\"><ul class=\"toc-item\"><li><span><a href=\"#Data-Analytic\" data-toc-modified-id=\"Data-Analytic-1\"><span class=\"toc-item-num\">1&nbsp;&nbsp;</span>Data Analytic</a></span><ul class=\"toc-item\"><li><span><a href=\"#Data-Processing\" data-toc-modified-id=\"Data-Processing-1.1\"><span class=\"toc-item-num\">1.1&nbsp;&nbsp;</span>Data Processing</a></span><ul class=\"toc-item\"><li><span><a href=\"#Load-Data-Source\" data-toc-modified-id=\"Load-Data-Source-1.1.1\"><span class=\"toc-item-num\">1.1.1&nbsp;&nbsp;</span>Load Data Source</a></span></li><li><span><a href=\"#check-only-type-data-pandas\" data-toc-modified-id=\"check-only-type-data-pandas-1.1.2\"><span class=\"toc-item-num\">1.1.2&nbsp;&nbsp;</span>check only type data pandas</a></span></li><li><span><a href=\"#Working-With-datetime\" data-toc-modified-id=\"Working-With-datetime-1.1.3\"><span class=\"toc-item-num\">1.1.3&nbsp;&nbsp;</span>Working With datetime</a></span><ul class=\"toc-item\"><li><span><a href=\"#Convert-to-Datetime\" data-toc-modified-id=\"Convert-to-Datetime-1.1.3.1\"><span class=\"toc-item-num\">1.1.3.1&nbsp;&nbsp;</span>Convert to Datetime</a></span></li></ul></li><li><span><a href=\"#Extract-Datetime-Component\" data-toc-modified-id=\"Extract-Datetime-Component-1.1.4\"><span class=\"toc-item-num\">1.1.4&nbsp;&nbsp;</span>Extract Datetime Component</a></span><ul class=\"toc-item\"><li><span><a href=\"#Datetime-attribute\" data-toc-modified-id=\"Datetime-attribute-1.1.4.1\"><span class=\"toc-item-num\">1.1.4.1&nbsp;&nbsp;</span>Datetime attribute</a></span></li><li><span><a href=\"#Datetime-method\" data-toc-modified-id=\"Datetime-method-1.1.4.2\"><span class=\"toc-item-num\">1.1.4.2&nbsp;&nbsp;</span>Datetime method</a></span></li></ul></li><li><span><a href=\"#Contingency-Table\" data-toc-modified-id=\"Contingency-Table-1.1.5\"><span class=\"toc-item-num\">1.1.5&nbsp;&nbsp;</span>Contingency Table</a></span><ul class=\"toc-item\"><li><span><a href=\"#Method-.value_counts()\" data-toc-modified-id=\"Method-.value_counts()-1.1.5.1\"><span class=\"toc-item-num\">1.1.5.1&nbsp;&nbsp;</span>Method <code>.value_counts()</code></a></span></li><li><span><a href=\"#Cross-Tabulation\" data-toc-modified-id=\"Cross-Tabulation-1.1.5.2\"><span class=\"toc-item-num\">1.1.5.2&nbsp;&nbsp;</span>Cross-Tabulation</a></span></li></ul></li><li><span><a href=\"#Summary:-Tables-in-pandas\" data-toc-modified-id=\"Summary:-Tables-in-pandas-1.1.6\"><span class=\"toc-item-num\">1.1.6&nbsp;&nbsp;</span>Summary: Tables in <code>pandas</code></a></span><ul class=\"toc-item\"><li><span><a href=\"#Frequency-Tables\" data-toc-modified-id=\"Frequency-Tables-1.1.6.1\"><span class=\"toc-item-num\">1.1.6.1&nbsp;&nbsp;</span>Frequency Tables</a></span></li><li><span><a href=\"#Aggregation-Tables\" data-toc-modified-id=\"Aggregation-Tables-1.1.6.2\"><span class=\"toc-item-num\">1.1.6.2&nbsp;&nbsp;</span>Aggregation Tables</a></span></li><li><span><a href=\"#crosstab-vs-pivot_table\" data-toc-modified-id=\"crosstab-vs-pivot_table-1.1.6.3\"><span class=\"toc-item-num\">1.1.6.3&nbsp;&nbsp;</span>crosstab vs pivot_table</a></span></li></ul></li><li><span><a href=\"#Missing-Values\" data-toc-modified-id=\"Missing-Values-1.1.7\"><span class=\"toc-item-num\">1.1.7&nbsp;&nbsp;</span>Missing Values</a></span><ul class=\"toc-item\"><li><span><a href=\"#Missing-Values\" data-toc-modified-id=\"Missing-Values-1.1.7.1\"><span class=\"toc-item-num\">1.1.7.1&nbsp;&nbsp;</span>Missing Values</a></span></li><li><span><a href=\"#Check-Missing-Values\" data-toc-modified-id=\"Check-Missing-Values-1.1.7.2\"><span class=\"toc-item-num\">1.1.7.2&nbsp;&nbsp;</span>Check Missing Values</a></span></li><li><span><a href=\"#Treatment-for-Missing-Value\" data-toc-modified-id=\"Treatment-for-Missing-Value-1.1.7.3\"><span class=\"toc-item-num\">1.1.7.3&nbsp;&nbsp;</span>Treatment for Missing Value</a></span></li></ul></li></ul></li><li><span><a href=\"#Data-Wrangling\" data-toc-modified-id=\"Data-Wrangling-1.2\"><span class=\"toc-item-num\">1.2&nbsp;&nbsp;</span>Data Wrangling</a></span></li><li><span><a href=\"#Data-Visualization\" data-toc-modified-id=\"Data-Visualization-1.3\"><span class=\"toc-item-num\">1.3&nbsp;&nbsp;</span>Data Visualization</a></span></li></ul></li></ul></div>"
   ]
  },
  {
   "cell_type": "markdown",
   "id": "pleasant-horror",
   "metadata": {},
   "source": [
    "## Data Analytic"
   ]
  },
  {
   "cell_type": "markdown",
   "id": "balanced-remains",
   "metadata": {},
   "source": [
    "### Data Processing"
   ]
  },
  {
   "cell_type": "markdown",
   "id": "incomplete-console",
   "metadata": {},
   "source": [
    "#### Load Data Source"
   ]
  },
  {
   "cell_type": "code",
   "execution_count": 11,
   "id": "surprised-notice",
   "metadata": {
    "ExecuteTime": {
     "end_time": "2021-04-09T07:17:53.043265Z",
     "start_time": "2021-04-09T07:17:52.817190Z"
    }
   },
   "outputs": [
    {
     "name": "stderr",
     "output_type": "stream",
     "text": [
      "/Users/queen/opt/miniconda3/envs/git-class/lib/python3.8/site-packages/IPython/core/interactiveshell.py:3165: DtypeWarning: Columns (3) have mixed types.Specify dtype option on import or set low_memory=False.\n",
      "  has_raised = await self.run_ast_nodes(code_ast.body, cell_name,\n"
     ]
    }
   ],
   "source": [
    "import pandas as pd\n",
    "\n",
    "data = pd.read_csv(\"data_customer_sellout.csv\");"
   ]
  },
  {
   "cell_type": "code",
   "execution_count": 7,
   "id": "saved-penalty",
   "metadata": {
    "ExecuteTime": {
     "end_time": "2021-04-09T07:02:26.210204Z",
     "start_time": "2021-04-09T07:02:26.154529Z"
    }
   },
   "outputs": [
    {
     "data": {
      "text/html": [
       "<div>\n",
       "<style scoped>\n",
       "    .dataframe tbody tr th:only-of-type {\n",
       "        vertical-align: middle;\n",
       "    }\n",
       "\n",
       "    .dataframe tbody tr th {\n",
       "        vertical-align: top;\n",
       "    }\n",
       "\n",
       "    .dataframe thead th {\n",
       "        text-align: right;\n",
       "    }\n",
       "</style>\n",
       "<table border=\"1\" class=\"dataframe\">\n",
       "  <thead>\n",
       "    <tr style=\"text-align: right;\">\n",
       "      <th></th>\n",
       "      <th>number</th>\n",
       "      <th>date</th>\n",
       "      <th>customer</th>\n",
       "      <th>source</th>\n",
       "      <th>store</th>\n",
       "    </tr>\n",
       "  </thead>\n",
       "  <tbody>\n",
       "    <tr>\n",
       "      <th>0</th>\n",
       "      <td>False</td>\n",
       "      <td>False</td>\n",
       "      <td>False</td>\n",
       "      <td>False</td>\n",
       "      <td>False</td>\n",
       "    </tr>\n",
       "    <tr>\n",
       "      <th>1</th>\n",
       "      <td>False</td>\n",
       "      <td>False</td>\n",
       "      <td>False</td>\n",
       "      <td>False</td>\n",
       "      <td>False</td>\n",
       "    </tr>\n",
       "    <tr>\n",
       "      <th>2</th>\n",
       "      <td>False</td>\n",
       "      <td>False</td>\n",
       "      <td>False</td>\n",
       "      <td>False</td>\n",
       "      <td>False</td>\n",
       "    </tr>\n",
       "    <tr>\n",
       "      <th>3</th>\n",
       "      <td>False</td>\n",
       "      <td>False</td>\n",
       "      <td>False</td>\n",
       "      <td>False</td>\n",
       "      <td>False</td>\n",
       "    </tr>\n",
       "    <tr>\n",
       "      <th>4</th>\n",
       "      <td>False</td>\n",
       "      <td>False</td>\n",
       "      <td>False</td>\n",
       "      <td>False</td>\n",
       "      <td>False</td>\n",
       "    </tr>\n",
       "    <tr>\n",
       "      <th>...</th>\n",
       "      <td>...</td>\n",
       "      <td>...</td>\n",
       "      <td>...</td>\n",
       "      <td>...</td>\n",
       "      <td>...</td>\n",
       "    </tr>\n",
       "    <tr>\n",
       "      <th>153626</th>\n",
       "      <td>False</td>\n",
       "      <td>False</td>\n",
       "      <td>False</td>\n",
       "      <td>True</td>\n",
       "      <td>False</td>\n",
       "    </tr>\n",
       "    <tr>\n",
       "      <th>153627</th>\n",
       "      <td>False</td>\n",
       "      <td>False</td>\n",
       "      <td>False</td>\n",
       "      <td>True</td>\n",
       "      <td>False</td>\n",
       "    </tr>\n",
       "    <tr>\n",
       "      <th>153628</th>\n",
       "      <td>False</td>\n",
       "      <td>False</td>\n",
       "      <td>False</td>\n",
       "      <td>True</td>\n",
       "      <td>False</td>\n",
       "    </tr>\n",
       "    <tr>\n",
       "      <th>153629</th>\n",
       "      <td>False</td>\n",
       "      <td>False</td>\n",
       "      <td>False</td>\n",
       "      <td>True</td>\n",
       "      <td>False</td>\n",
       "    </tr>\n",
       "    <tr>\n",
       "      <th>153630</th>\n",
       "      <td>False</td>\n",
       "      <td>False</td>\n",
       "      <td>False</td>\n",
       "      <td>True</td>\n",
       "      <td>False</td>\n",
       "    </tr>\n",
       "  </tbody>\n",
       "</table>\n",
       "<p>153631 rows × 5 columns</p>\n",
       "</div>"
      ],
      "text/plain": [
       "        number   date  customer  source  store\n",
       "0        False  False     False   False  False\n",
       "1        False  False     False   False  False\n",
       "2        False  False     False   False  False\n",
       "3        False  False     False   False  False\n",
       "4        False  False     False   False  False\n",
       "...        ...    ...       ...     ...    ...\n",
       "153626   False  False     False    True  False\n",
       "153627   False  False     False    True  False\n",
       "153628   False  False     False    True  False\n",
       "153629   False  False     False    True  False\n",
       "153630   False  False     False    True  False\n",
       "\n",
       "[153631 rows x 5 columns]"
      ]
     },
     "execution_count": 7,
     "metadata": {},
     "output_type": "execute_result"
    }
   ],
   "source": [
    "# read data after load ( Data Frame )"
   ]
  },
  {
   "cell_type": "code",
   "execution_count": 11,
   "id": "optical-slave",
   "metadata": {
    "ExecuteTime": {
     "end_time": "2021-04-05T14:47:37.841826Z",
     "start_time": "2021-04-05T14:47:37.793399Z"
    }
   },
   "outputs": [
    {
     "name": "stdout",
     "output_type": "stream",
     "text": [
      "<class 'pandas.core.frame.DataFrame'>\n",
      "RangeIndex: 153631 entries, 0 to 153630\n",
      "Data columns (total 5 columns):\n",
      " #   Column    Non-Null Count   Dtype \n",
      "---  ------    --------------   ----- \n",
      " 0   number    153631 non-null  object\n",
      " 1   date      153631 non-null  object\n",
      " 2   customer  121984 non-null  object\n",
      " 3   source    46985 non-null   object\n",
      " 4   store     153631 non-null  object\n",
      "dtypes: object(5)\n",
      "memory usage: 5.9+ MB\n"
     ]
    }
   ],
   "source": [
    "## check information about data type, size\n"
   ]
  },
  {
   "cell_type": "markdown",
   "id": "surface-collaboration",
   "metadata": {
    "ExecuteTime": {
     "end_time": "2021-04-05T14:48:53.810750Z",
     "start_time": "2021-04-05T14:48:53.803400Z"
    }
   },
   "source": [
    "#### check only type data pandas\n",
    "data.dtypes"
   ]
  },
  {
   "cell_type": "code",
   "execution_count": null,
   "id": "stock-stretch",
   "metadata": {},
   "outputs": [],
   "source": [
    "#change type data columns"
   ]
  },
  {
   "cell_type": "code",
   "execution_count": null,
   "id": "transparent-biology",
   "metadata": {},
   "outputs": [],
   "source": [
    "#check memory usage from data frame load"
   ]
  },
  {
   "cell_type": "markdown",
   "id": "north-belfast",
   "metadata": {},
   "source": [
    "#### Working With datetime"
   ]
  },
  {
   "cell_type": "markdown",
   "id": "humanitarian-prague",
   "metadata": {
    "ExecuteTime": {
     "end_time": "2021-04-05T14:58:25.351208Z",
     "start_time": "2021-04-05T14:58:25.347096Z"
    }
   },
   "source": [
    "##### Convert to Datetime\n",
    "\n",
    "There are three common ways for us to convert data type into `datetime64`:"
   ]
  },
  {
   "cell_type": "code",
   "execution_count": null,
   "id": "approved-handy",
   "metadata": {},
   "outputs": [],
   "source": [
    "# with astype"
   ]
  },
  {
   "cell_type": "code",
   "execution_count": null,
   "id": "fatal-helmet",
   "metadata": {},
   "outputs": [],
   "source": [
    "# with parameter parse_dates"
   ]
  },
  {
   "cell_type": "code",
   "execution_count": 16,
   "id": "raised-radical",
   "metadata": {
    "ExecuteTime": {
     "end_time": "2021-04-05T15:04:42.766842Z",
     "start_time": "2021-04-05T15:04:42.764594Z"
    }
   },
   "outputs": [],
   "source": [
    "# with `pd.to_datetime()`"
   ]
  },
  {
   "cell_type": "markdown",
   "id": "temporal-stock",
   "metadata": {},
   "source": [
    "#### Extract Datetime Component"
   ]
  },
  {
   "cell_type": "markdown",
   "id": "indian-auckland",
   "metadata": {},
   "source": [
    "The main reason we convert a column to `datetime64` date type because `pandas` has a number of machineries to work with `datetime` objects. These are convenient for when we need to extract datetime component.\n",
    "\n",
    "**Date component (numeric)**\n",
    "- `.dt.year`\n",
    "- `.dt.month`\n",
    "- `.dt.day`\n",
    "- `.dt.dayofweek`: index of day, Monday = 0 to Sunday = 6\n",
    "\n",
    "**Date component (string)**\n",
    "- `.dt.month_name()`\n",
    "- `.dt.day_name()`\n",
    "\n",
    "**Time component**\n",
    "- `.dt.hour`\n",
    "- `.dt.minute`\n",
    "- `.dt.second`\n",
    "\n",
    "[Documentation of datetime properties](https://pandas.pydata.org/pandas-docs/stable/reference/series.html#datetimelike-properties)"
   ]
  },
  {
   "cell_type": "markdown",
   "id": "constant-orbit",
   "metadata": {},
   "source": [
    "Check the range of `purchase_time`:"
   ]
  },
  {
   "cell_type": "markdown",
   "id": "dutch-fabric",
   "metadata": {},
   "source": [
    "##### Datetime attribute\n",
    "\n",
    "To extract datetime component in numeric value, we can use its **attribute** (without bracket)"
   ]
  },
  {
   "cell_type": "markdown",
   "id": "joint-vietnamese",
   "metadata": {
    "ExecuteTime": {
     "end_time": "2021-04-09T07:36:10.164590Z",
     "start_time": "2021-04-09T07:36:10.156062Z"
    }
   },
   "source": [
    "##### Datetime method\n",
    "\n",
    "To extract name (text) from datetime component, we can use its **method** (with bracket)"
   ]
  },
  {
   "cell_type": "markdown",
   "id": "european-backing",
   "metadata": {
    "ExecuteTime": {
     "end_time": "2021-04-09T06:52:39.516301Z",
     "start_time": "2021-04-09T06:52:39.511257Z"
    }
   },
   "source": [
    "#### Contingency Table\n",
    "\n",
    "One of the simplest EDA toolkit to display **counts** of a categorical column:\n",
    "\n",
    "Contingency = Cross-tabulation = Frequency tables"
   ]
  },
  {
   "cell_type": "markdown",
   "id": "buried-science",
   "metadata": {},
   "source": [
    "##### Method `.value_counts()`"
   ]
  },
  {
   "cell_type": "markdown",
   "id": "inappropriate-sport",
   "metadata": {},
   "source": [
    "Usage: Get the counts of each unique levels in one categorical column, sorted by descending order.\n",
    "\n",
    "Parameter:\n",
    "\n",
    "- `sort=False`: prevent any sorting values, **sort by index** instead\n",
    "- `ascending=True`: **sort values** in ascending order"
   ]
  },
  {
   "cell_type": "markdown",
   "id": "revolutionary-damage",
   "metadata": {},
   "source": [
    "<b id='q1'>Business Question 1</b>\n",
    "\n",
    "There are three categories of `source` (informasi pembelian), how many total transactions occurred in each `informasi pembelian`?"
   ]
  },
  {
   "cell_type": "code",
   "execution_count": 6,
   "id": "smaller-instruction",
   "metadata": {
    "ExecuteTime": {
     "end_time": "2021-04-09T06:55:10.959856Z",
     "start_time": "2021-04-09T06:55:10.956881Z"
    }
   },
   "outputs": [],
   "source": [
    "## use value_counts()"
   ]
  },
  {
   "cell_type": "markdown",
   "id": "experienced-pastor",
   "metadata": {},
   "source": [
    "<b id='q2'>Business Question 2</b>\n",
    "\n",
    "Which `weekday` has the **largest** and **smallest** transaction volume?"
   ]
  },
  {
   "cell_type": "markdown",
   "id": "preliminary-platform",
   "metadata": {},
   "source": [
    "##### Cross-Tabulation"
   ]
  },
  {
   "cell_type": "markdown",
   "id": "indonesian-weekend",
   "metadata": {},
   "source": [
    "Versatile solution in producing frequency table is by using `crosstab`. Syntax:\n",
    "\n",
    "    pd.crosstab(\n",
    "        index=...,\n",
    "        columns=...\n",
    "    )\n",
    "                \n",
    "**Required Parameter**:\n",
    "\n",
    "- `index`: Values to group by in the index (rows)\n",
    "- `columns`: Values to group by in the columns"
   ]
  },
  {
   "cell_type": "markdown",
   "id": "rising-demonstration",
   "metadata": {},
   "source": [
    "Let's re-create [Business Question 1](#q1) using `pd.crosstab()`:\n",
    "\n",
    "How many total transactions occurred in each `source`?"
   ]
  },
  {
   "cell_type": "markdown",
   "id": "incredible-aviation",
   "metadata": {},
   "source": [
    "#### Summary: Tables in `pandas` "
   ]
  },
  {
   "cell_type": "markdown",
   "id": "miniature-emerald",
   "metadata": {},
   "source": [
    "##### Frequency Tables\n",
    "\n",
    "Usage: calculate number of rows for categorical column\n",
    "\n",
    "Methods:\n",
    "\n",
    "- For one column, use `.value_counts()` (Series)\n",
    "- For one or more columns:\n",
    "    - `pd.crosstab(index, columns)` -> parameter `normalize`\n",
    "    - `pd.pivot_table(index, columns, aggfunc='count')` but rarely used, doesn't have `normalize`"
   ]
  },
  {
   "cell_type": "markdown",
   "id": "indirect-favorite",
   "metadata": {},
   "source": [
    "##### Aggregation Tables\n",
    "\n",
    "Usage: aggregate numerical column which broken down by categorical column\n",
    "\n",
    "Methods:\n",
    "\n",
    "- `pd.crosstab(index, columns, values, aggfunc)`\n",
    "- `pd.pivot_table(data, index, columns, values, aggfunc)`"
   ]
  },
  {
   "cell_type": "markdown",
   "id": "compact-adapter",
   "metadata": {},
   "source": [
    "##### crosstab vs pivot_table"
   ]
  },
  {
   "cell_type": "markdown",
   "id": "comparable-concern",
   "metadata": {},
   "source": [
    "The main differences between `crosstab` and `pivot_table` can be summarized as follows:\n",
    "\n",
    "|                                                                                    | `pd.crosstab()` | `pd.pivot_table()` |\n",
    "|------------------------------------------------------------------------------------|-----------------|--------------------|\n",
    "|                                                                          **Input** | Array of values |          DataFrame |\n",
    "|                                                              **Default `aggfunc`** |       `'count'` |           `'mean'` |\n",
    "|                                                          **Parameter `normalize`** |       Available |      Not Available |\n",
    "| [**Computation Time**](https://ramiro.org/notebook/pandas-crosstab-groupby-pivot/) | Relatively Slower |  Relatively Faster |"
   ]
  },
  {
   "cell_type": "markdown",
   "id": "equivalent-pakistan",
   "metadata": {},
   "source": [
    "#### Missing Values"
   ]
  },
  {
   "cell_type": "markdown",
   "id": "wrapped-hierarchy",
   "metadata": {},
   "source": [
    "During the data exploration and preparation phase, it is likely we come across some problematic details in our data, such as: \n",
    "\n",
    "- Value of _-1_ for the _age_ column\n",
    "- Value of _blank_ for the _customer segment_ column\n",
    "- Value of _None_ for the _loan duration_ column\n",
    "- etc\n",
    "\n",
    "All of these are examples of \"untidy\" data, which is rather common depending on the data collection and recording process in a company."
   ]
  },
  {
   "cell_type": "markdown",
   "id": "supported-singapore",
   "metadata": {},
   "source": [
    "##### Missing Values\n",
    "\n",
    "Missing Values:\n",
    "\n",
    "- `NaN`: Not a Number, for object and category\n",
    "- `nan`: not a number, for numeric\n",
    "- `NaT`: Not a Time, for datetime64"
   ]
  },
  {
   "cell_type": "markdown",
   "id": "uniform-anthropology",
   "metadata": {},
   "source": [
    "##### Check Missing Values\n",
    "\n",
    "A common method to detect missing values:\n",
    "\n",
    "- `.isna()`: returns `True` if the values are missing.\n",
    "- `.notna()`: returns `True` if the values are **not** missing."
   ]
  },
  {
   "cell_type": "markdown",
   "id": "paperback-cedar",
   "metadata": {},
   "source": [
    "Count the **number** of missing values across each column:\n",
    "\n",
    "- `True` will be treated as 1\n",
    "- `False` will be treated as 0"
   ]
  },
  {
   "cell_type": "markdown",
   "id": "opened-creation",
   "metadata": {},
   "source": [
    "##### Treatment for Missing Value"
   ]
  },
  {
   "cell_type": "markdown",
   "id": "phantom-prime",
   "metadata": {},
   "source": [
    "Three most common ways to deal with missing value:\n",
    "\n",
    "1. Delete column\n",
    "2. Delete row\n",
    "3. Imputation (fill)"
   ]
  },
  {
   "cell_type": "code",
   "execution_count": 10,
   "id": "behind-dealer",
   "metadata": {
    "ExecuteTime": {
     "end_time": "2021-04-09T07:17:00.429117Z",
     "start_time": "2021-04-09T07:17:00.426560Z"
    }
   },
   "outputs": [],
   "source": [
    "## use distribusi frequensi"
   ]
  },
  {
   "cell_type": "markdown",
   "id": "vietnamese-consolidation",
   "metadata": {},
   "source": [
    "<b>Delete Row</b>\n",
    "\n",
    "When we are certain that the rows with missing value can be safely dropped, we can use `.dropna()` method.\n",
    "\n",
    "- `.dropna(how='any')`: drops row if **minimum 1 column** contain missing value\n",
    "\n",
    "- `.dropna(how='all')`: drops row if **all values** are missing\n",
    "\n",
    "- `.dropna(thresh=...)`: drops row if non-missing values < `thresh` "
   ]
  },
  {
   "cell_type": "code",
   "execution_count": null,
   "id": "maritime-batch",
   "metadata": {},
   "outputs": [],
   "source": []
  },
  {
   "cell_type": "markdown",
   "id": "eligible-racing",
   "metadata": {},
   "source": [
    "<b>Imputation </b>\n",
    "\n",
    "Fill missing value with some value, using `.fillna()` method"
   ]
  },
  {
   "cell_type": "code",
   "execution_count": null,
   "id": "behind-genetics",
   "metadata": {},
   "outputs": [],
   "source": []
  },
  {
   "cell_type": "markdown",
   "id": "pretty-broadway",
   "metadata": {},
   "source": [
    "### Data Wrangling"
   ]
  },
  {
   "cell_type": "markdown",
   "id": "expanded-intro",
   "metadata": {
    "ExecuteTime": {
     "end_time": "2021-04-09T07:10:37.247617Z",
     "start_time": "2021-04-09T07:10:37.243162Z"
    }
   },
   "source": [
    "<b id='q1'>Business Question 1</b>\n",
    "\n",
    "berapa jumlah transaksi berdasarkan masing masing source"
   ]
  },
  {
   "cell_type": "markdown",
   "id": "right-lafayette",
   "metadata": {
    "ExecuteTime": {
     "end_time": "2021-04-09T07:11:54.545586Z",
     "start_time": "2021-04-09T07:11:54.541116Z"
    }
   },
   "source": [
    "<b id='q1'>Business Question 2</b>\n",
    "\n",
    "Berapa Frequensi transaksi dari masing masing hari"
   ]
  },
  {
   "cell_type": "markdown",
   "id": "posted-canberra",
   "metadata": {
    "ExecuteTime": {
     "end_time": "2021-04-04T14:37:12.634907Z",
     "start_time": "2021-04-04T14:37:12.632036Z"
    }
   },
   "source": [
    "### Data Visualization"
   ]
  },
  {
   "cell_type": "code",
   "execution_count": null,
   "id": "above-skill",
   "metadata": {},
   "outputs": [],
   "source": [
    "###"
   ]
  }
 ],
 "metadata": {
  "kernelspec": {
   "display_name": "git-class",
   "language": "python",
   "name": "git-class"
  },
  "language_info": {
   "codemirror_mode": {
    "name": "ipython",
    "version": 3
   },
   "file_extension": ".py",
   "mimetype": "text/x-python",
   "name": "python",
   "nbconvert_exporter": "python",
   "pygments_lexer": "ipython3",
   "version": "3.8.8"
  },
  "toc": {
   "base_numbering": 1,
   "nav_menu": {},
   "number_sections": true,
   "sideBar": true,
   "skip_h1_title": true,
   "title_cell": "Table of Contents",
   "title_sidebar": "Contents",
   "toc_cell": true,
   "toc_position": {},
   "toc_section_display": true,
   "toc_window_display": true
  },
  "varInspector": {
   "cols": {
    "lenName": 16,
    "lenType": 16,
    "lenVar": 40
   },
   "kernels_config": {
    "python": {
     "delete_cmd_postfix": "",
     "delete_cmd_prefix": "del ",
     "library": "var_list.py",
     "varRefreshCmd": "print(var_dic_list())"
    },
    "r": {
     "delete_cmd_postfix": ") ",
     "delete_cmd_prefix": "rm(",
     "library": "var_list.r",
     "varRefreshCmd": "cat(var_dic_list()) "
    }
   },
   "types_to_exclude": [
    "module",
    "function",
    "builtin_function_or_method",
    "instance",
    "_Feature"
   ],
   "window_display": false
  }
 },
 "nbformat": 4,
 "nbformat_minor": 5
}

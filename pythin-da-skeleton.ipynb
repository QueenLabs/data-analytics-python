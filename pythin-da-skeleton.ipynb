{
 "cells": [
  {
   "cell_type": "markdown",
   "id": "received-pathology",
   "metadata": {
    "toc": true
   },
   "source": [
    "<h1>Table of Contents<span class=\"tocSkip\"></span></h1>\n",
    "<div class=\"toc\"><ul class=\"toc-item\"><li><span><a href=\"#Data-Analytic\" data-toc-modified-id=\"Data-Analytic-1\"><span class=\"toc-item-num\">1&nbsp;&nbsp;</span>Data Analytic</a></span><ul class=\"toc-item\"><li><span><a href=\"#Data-Processing\" data-toc-modified-id=\"Data-Processing-1.1\"><span class=\"toc-item-num\">1.1&nbsp;&nbsp;</span>Data Processing</a></span><ul class=\"toc-item\"><li><span><a href=\"#Load-Data-Source\" data-toc-modified-id=\"Load-Data-Source-1.1.1\"><span class=\"toc-item-num\">1.1.1&nbsp;&nbsp;</span>Load Data Source</a></span></li><li><span><a href=\"#check-only-type-data-pandas\" data-toc-modified-id=\"check-only-type-data-pandas-1.1.2\"><span class=\"toc-item-num\">1.1.2&nbsp;&nbsp;</span>check only type data pandas</a></span></li><li><span><a href=\"#Working-With-datetime\" data-toc-modified-id=\"Working-With-datetime-1.1.3\"><span class=\"toc-item-num\">1.1.3&nbsp;&nbsp;</span>Working With datetime</a></span><ul class=\"toc-item\"><li><span><a href=\"#Convert-to-Datetime\" data-toc-modified-id=\"Convert-to-Datetime-1.1.3.1\"><span class=\"toc-item-num\">1.1.3.1&nbsp;&nbsp;</span>Convert to Datetime</a></span></li></ul></li><li><span><a href=\"#Extract-Datetime-Component\" data-toc-modified-id=\"Extract-Datetime-Component-1.1.4\"><span class=\"toc-item-num\">1.1.4&nbsp;&nbsp;</span>Extract Datetime Component</a></span><ul class=\"toc-item\"><li><span><a href=\"#Datetime-attribute\" data-toc-modified-id=\"Datetime-attribute-1.1.4.1\"><span class=\"toc-item-num\">1.1.4.1&nbsp;&nbsp;</span>Datetime attribute</a></span></li><li><span><a href=\"#Datetime-method\" data-toc-modified-id=\"Datetime-method-1.1.4.2\"><span class=\"toc-item-num\">1.1.4.2&nbsp;&nbsp;</span>Datetime method</a></span></li><li><span><a href=\"#Datetime-Transformation\" data-toc-modified-id=\"Datetime-Transformation-1.1.4.3\"><span class=\"toc-item-num\">1.1.4.3&nbsp;&nbsp;</span>Datetime Transformation</a></span></li></ul></li><li><span><a href=\"#Contingency-Table\" data-toc-modified-id=\"Contingency-Table-1.1.5\"><span class=\"toc-item-num\">1.1.5&nbsp;&nbsp;</span>Contingency Table</a></span><ul class=\"toc-item\"><li><span><a href=\"#Method-.value_counts()\" data-toc-modified-id=\"Method-.value_counts()-1.1.5.1\"><span class=\"toc-item-num\">1.1.5.1&nbsp;&nbsp;</span>Method <code>.value_counts()</code></a></span></li><li><span><a href=\"#Cross-Tabulation\" data-toc-modified-id=\"Cross-Tabulation-1.1.5.2\"><span class=\"toc-item-num\">1.1.5.2&nbsp;&nbsp;</span>Cross-Tabulation</a></span></li></ul></li><li><span><a href=\"#Summary:-Tables-in-pandas\" data-toc-modified-id=\"Summary:-Tables-in-pandas-1.1.6\"><span class=\"toc-item-num\">1.1.6&nbsp;&nbsp;</span>Summary: Tables in <code>pandas</code></a></span><ul class=\"toc-item\"><li><span><a href=\"#Frequency-Tables\" data-toc-modified-id=\"Frequency-Tables-1.1.6.1\"><span class=\"toc-item-num\">1.1.6.1&nbsp;&nbsp;</span>Frequency Tables</a></span></li><li><span><a href=\"#Aggregation-Tables\" data-toc-modified-id=\"Aggregation-Tables-1.1.6.2\"><span class=\"toc-item-num\">1.1.6.2&nbsp;&nbsp;</span>Aggregation Tables</a></span></li><li><span><a href=\"#crosstab-vs-pivot_table\" data-toc-modified-id=\"crosstab-vs-pivot_table-1.1.6.3\"><span class=\"toc-item-num\">1.1.6.3&nbsp;&nbsp;</span>crosstab vs pivot_table</a></span></li></ul></li><li><span><a href=\"#Missing-Values\" data-toc-modified-id=\"Missing-Values-1.1.7\"><span class=\"toc-item-num\">1.1.7&nbsp;&nbsp;</span>Missing Values</a></span><ul class=\"toc-item\"><li><span><a href=\"#Missing-Values\" data-toc-modified-id=\"Missing-Values-1.1.7.1\"><span class=\"toc-item-num\">1.1.7.1&nbsp;&nbsp;</span>Missing Values</a></span></li><li><span><a href=\"#Check-Missing-Values\" data-toc-modified-id=\"Check-Missing-Values-1.1.7.2\"><span class=\"toc-item-num\">1.1.7.2&nbsp;&nbsp;</span>Check Missing Values</a></span></li><li><span><a href=\"#Treatment-for-Missing-Value\" data-toc-modified-id=\"Treatment-for-Missing-Value-1.1.7.3\"><span class=\"toc-item-num\">1.1.7.3&nbsp;&nbsp;</span>Treatment for Missing Value</a></span></li></ul></li></ul></li><li><span><a href=\"#Data-Wrangling\" data-toc-modified-id=\"Data-Wrangling-1.2\"><span class=\"toc-item-num\">1.2&nbsp;&nbsp;</span>Data Wrangling</a></span></li><li><span><a href=\"#Data-Visualization\" data-toc-modified-id=\"Data-Visualization-1.3\"><span class=\"toc-item-num\">1.3&nbsp;&nbsp;</span>Data Visualization</a></span></li></ul></li></ul></div>"
   ]
  },
  {
   "cell_type": "markdown",
   "id": "pleasant-horror",
   "metadata": {},
   "source": [
    "## Data Analytic"
   ]
  },
  {
   "cell_type": "markdown",
   "id": "balanced-remains",
   "metadata": {},
   "source": [
    "### Data Processing"
   ]
  },
  {
   "cell_type": "markdown",
   "id": "incomplete-console",
   "metadata": {},
   "source": [
    "#### Load Data Source"
   ]
  },
  {
   "cell_type": "code",
   "execution_count": 1,
   "id": "surprised-notice",
   "metadata": {
    "ExecuteTime": {
     "end_time": "2021-04-12T10:06:22.386051Z",
     "start_time": "2021-04-12T10:06:21.476062Z"
    }
   },
   "outputs": [],
   "source": [
    "import pandas as pd\n",
    "\n",
    "data = pd.read_csv(\"data_customer_sellout.csv\",low_memory=False,parse_dates=['date']);"
   ]
  },
  {
   "cell_type": "code",
   "execution_count": 6,
   "id": "saved-penalty",
   "metadata": {
    "ExecuteTime": {
     "end_time": "2021-04-12T10:12:01.269962Z",
     "start_time": "2021-04-12T10:12:01.256253Z"
    },
    "scrolled": true
   },
   "outputs": [
    {
     "data": {
      "text/html": [
       "<div>\n",
       "<style scoped>\n",
       "    .dataframe tbody tr th:only-of-type {\n",
       "        vertical-align: middle;\n",
       "    }\n",
       "\n",
       "    .dataframe tbody tr th {\n",
       "        vertical-align: top;\n",
       "    }\n",
       "\n",
       "    .dataframe thead th {\n",
       "        text-align: right;\n",
       "    }\n",
       "</style>\n",
       "<table border=\"1\" class=\"dataframe\">\n",
       "  <thead>\n",
       "    <tr style=\"text-align: right;\">\n",
       "      <th></th>\n",
       "      <th>number</th>\n",
       "      <th>date</th>\n",
       "      <th>customer</th>\n",
       "      <th>source</th>\n",
       "      <th>store</th>\n",
       "    </tr>\n",
       "  </thead>\n",
       "  <tbody>\n",
       "    <tr>\n",
       "      <th>0</th>\n",
       "      <td>SO-RJ-079482</td>\n",
       "      <td>2021-03-25</td>\n",
       "      <td>ELFAS</td>\n",
       "      <td>Bukalapak</td>\n",
       "      <td>RAJAWALI</td>\n",
       "    </tr>\n",
       "    <tr>\n",
       "      <th>1</th>\n",
       "      <td>SO-RJ-660201</td>\n",
       "      <td>2021-03-24</td>\n",
       "      <td>ASEP</td>\n",
       "      <td>CS Pusat (Andre)</td>\n",
       "      <td>RAJAWALI</td>\n",
       "    </tr>\n",
       "    <tr>\n",
       "      <th>2</th>\n",
       "      <td>SO-RJ-716739</td>\n",
       "      <td>2021-03-23</td>\n",
       "      <td>HERMAWANTO</td>\n",
       "      <td>Facebook</td>\n",
       "      <td>RAJAWALI</td>\n",
       "    </tr>\n",
       "    <tr>\n",
       "      <th>3</th>\n",
       "      <td>SO-RJ-819431</td>\n",
       "      <td>2021-03-23</td>\n",
       "      <td>ZULMI</td>\n",
       "      <td>Bukalapak</td>\n",
       "      <td>RAJAWALI</td>\n",
       "    </tr>\n",
       "    <tr>\n",
       "      <th>4</th>\n",
       "      <td>SO-RJ-631156</td>\n",
       "      <td>2021-03-23</td>\n",
       "      <td>ALBERTUS PURNOMO RIYANTO</td>\n",
       "      <td>Pameran</td>\n",
       "      <td>RAJAWALI</td>\n",
       "    </tr>\n",
       "    <tr>\n",
       "      <th>5</th>\n",
       "      <td>SO-RJ-530717</td>\n",
       "      <td>2021-03-23</td>\n",
       "      <td>SIGIT</td>\n",
       "      <td>CS Pusat (Andre)</td>\n",
       "      <td>RAJAWALI</td>\n",
       "    </tr>\n",
       "    <tr>\n",
       "      <th>6</th>\n",
       "      <td>SO-RJ-530729</td>\n",
       "      <td>2021-03-20</td>\n",
       "      <td>SISWANDI</td>\n",
       "      <td>Blibli</td>\n",
       "      <td>RAJAWALI</td>\n",
       "    </tr>\n",
       "    <tr>\n",
       "      <th>7</th>\n",
       "      <td>SO-RJ-106951</td>\n",
       "      <td>2021-03-20</td>\n",
       "      <td>Syafril Hermansyah</td>\n",
       "      <td>CS Pusat (Andre)</td>\n",
       "      <td>RAJAWALI</td>\n",
       "    </tr>\n",
       "    <tr>\n",
       "      <th>8</th>\n",
       "      <td>SO-RJ-058155</td>\n",
       "      <td>2021-03-20</td>\n",
       "      <td>BUDI</td>\n",
       "      <td>CS Pusat (Andre)</td>\n",
       "      <td>RAJAWALI</td>\n",
       "    </tr>\n",
       "    <tr>\n",
       "      <th>9</th>\n",
       "      <td>SO-RJ-077958</td>\n",
       "      <td>2021-02-24</td>\n",
       "      <td>Bpk Okta</td>\n",
       "      <td>Lazada</td>\n",
       "      <td>RAJAWALI</td>\n",
       "    </tr>\n",
       "    <tr>\n",
       "      <th>10</th>\n",
       "      <td>SO-RJ-406450</td>\n",
       "      <td>2021-02-24</td>\n",
       "      <td>RAFSANDIKA</td>\n",
       "      <td>Facebook</td>\n",
       "      <td>RAJAWALI</td>\n",
       "    </tr>\n",
       "    <tr>\n",
       "      <th>11</th>\n",
       "      <td>SO-RJ-415306</td>\n",
       "      <td>2021-02-24</td>\n",
       "      <td>YULIAN ARI PRASETYO</td>\n",
       "      <td>Bukalapak</td>\n",
       "      <td>RAJAWALI</td>\n",
       "    </tr>\n",
       "    <tr>\n",
       "      <th>12</th>\n",
       "      <td>SO-RJ-755173</td>\n",
       "      <td>2021-02-24</td>\n",
       "      <td>soviant</td>\n",
       "      <td>Bukalapak</td>\n",
       "      <td>RAJAWALI</td>\n",
       "    </tr>\n",
       "    <tr>\n",
       "      <th>13</th>\n",
       "      <td>SO-RJ-018767</td>\n",
       "      <td>2021-02-24</td>\n",
       "      <td>MIRA</td>\n",
       "      <td>Ralali</td>\n",
       "      <td>RAJAWALI</td>\n",
       "    </tr>\n",
       "    <tr>\n",
       "      <th>14</th>\n",
       "      <td>SO-RJ-485520</td>\n",
       "      <td>2021-02-24</td>\n",
       "      <td>IBU. TITIN</td>\n",
       "      <td>Bukalapak</td>\n",
       "      <td>RAJAWALI</td>\n",
       "    </tr>\n",
       "    <tr>\n",
       "      <th>15</th>\n",
       "      <td>SO-RJ-068774</td>\n",
       "      <td>2021-02-24</td>\n",
       "      <td>SYAFWANDI BAHRI</td>\n",
       "      <td>CS Pusat (Andre)</td>\n",
       "      <td>RAJAWALI</td>\n",
       "    </tr>\n",
       "    <tr>\n",
       "      <th>16</th>\n",
       "      <td>SO-RJ-464731</td>\n",
       "      <td>2021-02-24</td>\n",
       "      <td>Bp Judistira</td>\n",
       "      <td>Grab Benefits</td>\n",
       "      <td>RAJAWALI</td>\n",
       "    </tr>\n",
       "    <tr>\n",
       "      <th>17</th>\n",
       "      <td>SO-WR_TKB-780139</td>\n",
       "      <td>2021-02-18</td>\n",
       "      <td>NURWATHONY ABDILLAH</td>\n",
       "      <td>Tokopedia</td>\n",
       "      <td>WAREHOUSE TKB</td>\n",
       "    </tr>\n",
       "    <tr>\n",
       "      <th>18</th>\n",
       "      <td>SO-WR_TKB-359073</td>\n",
       "      <td>2021-02-18</td>\n",
       "      <td>syahril</td>\n",
       "      <td>Remarketing</td>\n",
       "      <td>WAREHOUSE TKB</td>\n",
       "    </tr>\n",
       "    <tr>\n",
       "      <th>19</th>\n",
       "      <td>SO-WR_TKB-829627</td>\n",
       "      <td>2021-02-18</td>\n",
       "      <td>izam....</td>\n",
       "      <td>Komunitas</td>\n",
       "      <td>WAREHOUSE TKB</td>\n",
       "    </tr>\n",
       "  </tbody>\n",
       "</table>\n",
       "</div>"
      ],
      "text/plain": [
       "              number       date                  customer            source  \\\n",
       "0       SO-RJ-079482 2021-03-25                     ELFAS         Bukalapak   \n",
       "1       SO-RJ-660201 2021-03-24                      ASEP  CS Pusat (Andre)   \n",
       "2       SO-RJ-716739 2021-03-23                HERMAWANTO          Facebook   \n",
       "3       SO-RJ-819431 2021-03-23                     ZULMI         Bukalapak   \n",
       "4       SO-RJ-631156 2021-03-23  ALBERTUS PURNOMO RIYANTO           Pameran   \n",
       "5       SO-RJ-530717 2021-03-23                     SIGIT  CS Pusat (Andre)   \n",
       "6       SO-RJ-530729 2021-03-20                  SISWANDI            Blibli   \n",
       "7       SO-RJ-106951 2021-03-20        Syafril Hermansyah  CS Pusat (Andre)   \n",
       "8       SO-RJ-058155 2021-03-20                      BUDI  CS Pusat (Andre)   \n",
       "9       SO-RJ-077958 2021-02-24                  Bpk Okta            Lazada   \n",
       "10      SO-RJ-406450 2021-02-24                RAFSANDIKA          Facebook   \n",
       "11      SO-RJ-415306 2021-02-24       YULIAN ARI PRASETYO         Bukalapak   \n",
       "12      SO-RJ-755173 2021-02-24                   soviant         Bukalapak   \n",
       "13      SO-RJ-018767 2021-02-24                      MIRA            Ralali   \n",
       "14      SO-RJ-485520 2021-02-24                IBU. TITIN         Bukalapak   \n",
       "15      SO-RJ-068774 2021-02-24           SYAFWANDI BAHRI  CS Pusat (Andre)   \n",
       "16      SO-RJ-464731 2021-02-24              Bp Judistira     Grab Benefits   \n",
       "17  SO-WR_TKB-780139 2021-02-18       NURWATHONY ABDILLAH         Tokopedia   \n",
       "18  SO-WR_TKB-359073 2021-02-18                   syahril       Remarketing   \n",
       "19  SO-WR_TKB-829627 2021-02-18                  izam....         Komunitas   \n",
       "\n",
       "            store  \n",
       "0        RAJAWALI  \n",
       "1        RAJAWALI  \n",
       "2        RAJAWALI  \n",
       "3        RAJAWALI  \n",
       "4        RAJAWALI  \n",
       "5        RAJAWALI  \n",
       "6        RAJAWALI  \n",
       "7        RAJAWALI  \n",
       "8        RAJAWALI  \n",
       "9        RAJAWALI  \n",
       "10       RAJAWALI  \n",
       "11       RAJAWALI  \n",
       "12       RAJAWALI  \n",
       "13       RAJAWALI  \n",
       "14       RAJAWALI  \n",
       "15       RAJAWALI  \n",
       "16       RAJAWALI  \n",
       "17  WAREHOUSE TKB  \n",
       "18  WAREHOUSE TKB  \n",
       "19  WAREHOUSE TKB  "
      ]
     },
     "execution_count": 6,
     "metadata": {},
     "output_type": "execute_result"
    }
   ],
   "source": [
    "# read data after load ( Data Frame )\n",
    "data.head(20)"
   ]
  },
  {
   "cell_type": "code",
   "execution_count": 3,
   "id": "optical-slave",
   "metadata": {
    "ExecuteTime": {
     "end_time": "2021-04-12T10:07:30.348454Z",
     "start_time": "2021-04-12T10:07:30.303095Z"
    }
   },
   "outputs": [
    {
     "name": "stdout",
     "output_type": "stream",
     "text": [
      "<class 'pandas.core.frame.DataFrame'>\n",
      "RangeIndex: 153631 entries, 0 to 153630\n",
      "Data columns (total 5 columns):\n",
      " #   Column    Non-Null Count   Dtype         \n",
      "---  ------    --------------   -----         \n",
      " 0   number    153631 non-null  object        \n",
      " 1   date      153631 non-null  datetime64[ns]\n",
      " 2   customer  121984 non-null  object        \n",
      " 3   source    46985 non-null   object        \n",
      " 4   store     153631 non-null  object        \n",
      "dtypes: datetime64[ns](1), object(4)\n",
      "memory usage: 5.9+ MB\n"
     ]
    }
   ],
   "source": [
    "## check information about data type, size\n",
    "data.info()"
   ]
  },
  {
   "cell_type": "markdown",
   "id": "surface-collaboration",
   "metadata": {
    "ExecuteTime": {
     "end_time": "2021-04-05T14:48:53.810750Z",
     "start_time": "2021-04-05T14:48:53.803400Z"
    }
   },
   "source": [
    "#### check only type data pandas\n",
    "data.dtypes"
   ]
  },
  {
   "cell_type": "code",
   "execution_count": 5,
   "id": "stock-stretch",
   "metadata": {
    "ExecuteTime": {
     "end_time": "2021-04-12T10:10:47.083033Z",
     "start_time": "2021-04-12T10:10:47.078068Z"
    }
   },
   "outputs": [
    {
     "data": {
      "text/plain": [
       "number              object\n",
       "date        datetime64[ns]\n",
       "customer            object\n",
       "source              object\n",
       "store               object\n",
       "dtype: object"
      ]
     },
     "execution_count": 5,
     "metadata": {},
     "output_type": "execute_result"
    }
   ],
   "source": [
    "#change type data columns\n",
    "data.dtypes"
   ]
  },
  {
   "cell_type": "code",
   "execution_count": 8,
   "id": "least-conversation",
   "metadata": {
    "ExecuteTime": {
     "end_time": "2021-04-12T10:12:53.462331Z",
     "start_time": "2021-04-12T10:12:53.455058Z"
    }
   },
   "outputs": [],
   "source": [
    "data[['store','source']] = data[['store','source']].astype('category')"
   ]
  },
  {
   "cell_type": "code",
   "execution_count": 9,
   "id": "transparent-biology",
   "metadata": {
    "ExecuteTime": {
     "end_time": "2021-04-12T10:12:56.899797Z",
     "start_time": "2021-04-12T10:12:56.852648Z"
    }
   },
   "outputs": [
    {
     "name": "stdout",
     "output_type": "stream",
     "text": [
      "<class 'pandas.core.frame.DataFrame'>\n",
      "RangeIndex: 153631 entries, 0 to 153630\n",
      "Data columns (total 5 columns):\n",
      " #   Column    Non-Null Count   Dtype         \n",
      "---  ------    --------------   -----         \n",
      " 0   number    153631 non-null  object        \n",
      " 1   date      153631 non-null  datetime64[ns]\n",
      " 2   customer  121984 non-null  object        \n",
      " 3   source    46985 non-null   category      \n",
      " 4   store     153631 non-null  category      \n",
      "dtypes: category(2), datetime64[ns](1), object(2)\n",
      "memory usage: 3.8+ MB\n"
     ]
    }
   ],
   "source": [
    "#check memory usage from data frame load\n",
    "data.info()"
   ]
  },
  {
   "cell_type": "markdown",
   "id": "north-belfast",
   "metadata": {},
   "source": [
    "#### Working With datetime"
   ]
  },
  {
   "cell_type": "markdown",
   "id": "humanitarian-prague",
   "metadata": {
    "ExecuteTime": {
     "end_time": "2021-04-05T14:58:25.351208Z",
     "start_time": "2021-04-05T14:58:25.347096Z"
    }
   },
   "source": [
    "##### Convert to Datetime\n",
    "\n",
    "There are three common ways for us to convert data type into `datetime64`:"
   ]
  },
  {
   "cell_type": "code",
   "execution_count": null,
   "id": "approved-handy",
   "metadata": {},
   "outputs": [],
   "source": [
    "# with astype"
   ]
  },
  {
   "cell_type": "code",
   "execution_count": null,
   "id": "fatal-helmet",
   "metadata": {},
   "outputs": [],
   "source": [
    "# with parameter parse_dates"
   ]
  },
  {
   "cell_type": "code",
   "execution_count": 16,
   "id": "raised-radical",
   "metadata": {
    "ExecuteTime": {
     "end_time": "2021-04-05T15:04:42.766842Z",
     "start_time": "2021-04-05T15:04:42.764594Z"
    }
   },
   "outputs": [],
   "source": [
    "# with `pd.to_datetime()`"
   ]
  },
  {
   "cell_type": "markdown",
   "id": "permanent-third",
   "metadata": {},
   "source": [
    "#### Extract Datetime Component"
   ]
  },
  {
   "cell_type": "markdown",
   "id": "distinguished-hampshire",
   "metadata": {},
   "source": [
    "The main reason we convert a column to `datetime64` date type because `pandas` has a number of machineries to work with `datetime` objects. These are convenient for when we need to extract datetime component.\n",
    "\n",
    "**Date component (numeric)**\n",
    "- `.dt.year`\n",
    "- `.dt.month`\n",
    "- `.dt.day`\n",
    "- `.dt.dayofweek`: index of day, Monday = 0 to Sunday = 6\n",
    "\n",
    "**Date component (string)**\n",
    "- `.dt.month_name()`\n",
    "- `.dt.day_name()`\n",
    "\n",
    "**Time component**\n",
    "- `.dt.hour`\n",
    "- `.dt.minute`\n",
    "- `.dt.second`\n",
    "\n",
    "[Documentation of datetime properties](https://pandas.pydata.org/pandas-docs/stable/reference/series.html#datetimelike-properties)"
   ]
  },
  {
   "cell_type": "markdown",
   "id": "intellectual-journey",
   "metadata": {},
   "source": [
    "Check the range of `purchase_time`:"
   ]
  },
  {
   "cell_type": "code",
   "execution_count": 20,
   "id": "angry-commons",
   "metadata": {
    "ExecuteTime": {
     "end_time": "2021-04-11T05:24:02.769714Z",
     "start_time": "2021-04-11T05:24:02.542075Z"
    },
    "scrolled": true
   },
   "outputs": [
    {
     "name": "stderr",
     "output_type": "stream",
     "text": [
      "<ipython-input-20-2bb0b18689d4>:1: FutureWarning: Treating datetime data as categorical rather than numeric in `.describe` is deprecated and will be removed in a future version of pandas. Specify `datetime_is_numeric=True` to silence this warning and adopt the future behavior now.\n",
      "  data.describe()\n"
     ]
    },
    {
     "data": {
      "text/html": [
       "<div>\n",
       "<style scoped>\n",
       "    .dataframe tbody tr th:only-of-type {\n",
       "        vertical-align: middle;\n",
       "    }\n",
       "\n",
       "    .dataframe tbody tr th {\n",
       "        vertical-align: top;\n",
       "    }\n",
       "\n",
       "    .dataframe thead th {\n",
       "        text-align: right;\n",
       "    }\n",
       "</style>\n",
       "<table border=\"1\" class=\"dataframe\">\n",
       "  <thead>\n",
       "    <tr style=\"text-align: right;\">\n",
       "      <th></th>\n",
       "      <th>number</th>\n",
       "      <th>date</th>\n",
       "      <th>customer</th>\n",
       "      <th>source</th>\n",
       "      <th>store</th>\n",
       "    </tr>\n",
       "  </thead>\n",
       "  <tbody>\n",
       "    <tr>\n",
       "      <th>count</th>\n",
       "      <td>153631</td>\n",
       "      <td>153631</td>\n",
       "      <td>121984</td>\n",
       "      <td>46985</td>\n",
       "      <td>153631</td>\n",
       "    </tr>\n",
       "    <tr>\n",
       "      <th>unique</th>\n",
       "      <td>153631</td>\n",
       "      <td>615</td>\n",
       "      <td>84918</td>\n",
       "      <td>24</td>\n",
       "      <td>83</td>\n",
       "    </tr>\n",
       "    <tr>\n",
       "      <th>top</th>\n",
       "      <td>SO-UNI-745174</td>\n",
       "      <td>2019-05-30 00:00:00</td>\n",
       "      <td>INDRA</td>\n",
       "      <td>Langganan</td>\n",
       "      <td>SKA BAN</td>\n",
       "    </tr>\n",
       "    <tr>\n",
       "      <th>freq</th>\n",
       "      <td>1</td>\n",
       "      <td>607</td>\n",
       "      <td>162</td>\n",
       "      <td>12126</td>\n",
       "      <td>7926</td>\n",
       "    </tr>\n",
       "    <tr>\n",
       "      <th>first</th>\n",
       "      <td>NaN</td>\n",
       "      <td>2018-07-27 00:00:00</td>\n",
       "      <td>NaN</td>\n",
       "      <td>NaN</td>\n",
       "      <td>NaN</td>\n",
       "    </tr>\n",
       "    <tr>\n",
       "      <th>last</th>\n",
       "      <td>NaN</td>\n",
       "      <td>2021-03-25 00:00:00</td>\n",
       "      <td>NaN</td>\n",
       "      <td>NaN</td>\n",
       "      <td>NaN</td>\n",
       "    </tr>\n",
       "  </tbody>\n",
       "</table>\n",
       "</div>"
      ],
      "text/plain": [
       "               number                 date customer     source    store\n",
       "count          153631               153631   121984      46985   153631\n",
       "unique         153631                  615    84918         24       83\n",
       "top     SO-UNI-745174  2019-05-30 00:00:00    INDRA  Langganan  SKA BAN\n",
       "freq                1                  607      162      12126     7926\n",
       "first             NaN  2018-07-27 00:00:00      NaN        NaN      NaN\n",
       "last              NaN  2021-03-25 00:00:00      NaN        NaN      NaN"
      ]
     },
     "execution_count": 20,
     "metadata": {},
     "output_type": "execute_result"
    }
   ],
   "source": [
    "data.describe()"
   ]
  },
  {
   "cell_type": "markdown",
   "id": "thirty-fluid",
   "metadata": {},
   "source": [
    "##### Datetime attribute\n",
    "\n",
    "To extract datetime component in numeric value, we can use its **attribute** (without bracket)"
   ]
  },
  {
   "cell_type": "code",
   "execution_count": 13,
   "id": "cardiac-patch",
   "metadata": {
    "ExecuteTime": {
     "end_time": "2021-04-12T10:18:36.944756Z",
     "start_time": "2021-04-12T10:18:36.939177Z"
    }
   },
   "outputs": [
    {
     "data": {
      "text/plain": [
       "0        2021-03-25\n",
       "1        2021-03-24\n",
       "2        2021-03-23\n",
       "3        2021-03-23\n",
       "4        2021-03-23\n",
       "            ...    \n",
       "153626   2018-07-27\n",
       "153627   2018-07-27\n",
       "153628   2018-07-27\n",
       "153629   2018-07-27\n",
       "153630   2018-07-27\n",
       "Name: date, Length: 153631, dtype: datetime64[ns]"
      ]
     },
     "execution_count": 13,
     "metadata": {},
     "output_type": "execute_result"
    }
   ],
   "source": [
    "data['date']"
   ]
  },
  {
   "cell_type": "code",
   "execution_count": 16,
   "id": "rolled-admission",
   "metadata": {
    "ExecuteTime": {
     "end_time": "2021-04-12T10:19:24.533062Z",
     "start_time": "2021-04-12T10:19:24.522529Z"
    }
   },
   "outputs": [
    {
     "data": {
      "text/plain": [
       "0         3\n",
       "1         3\n",
       "2         3\n",
       "3         3\n",
       "4         3\n",
       "         ..\n",
       "153626    7\n",
       "153627    7\n",
       "153628    7\n",
       "153629    7\n",
       "153630    7\n",
       "Name: date, Length: 153631, dtype: int64"
      ]
     },
     "execution_count": 16,
     "metadata": {},
     "output_type": "execute_result"
    }
   ],
   "source": [
    "data['date'].dt.month"
   ]
  },
  {
   "cell_type": "code",
   "execution_count": 18,
   "id": "metric-gates",
   "metadata": {
    "ExecuteTime": {
     "end_time": "2021-04-12T10:19:40.475597Z",
     "start_time": "2021-04-12T10:19:40.460646Z"
    }
   },
   "outputs": [
    {
     "data": {
      "text/plain": [
       "0     25\n",
       "1     24\n",
       "2     23\n",
       "3     23\n",
       "4     23\n",
       "5     23\n",
       "6     20\n",
       "7     20\n",
       "8     20\n",
       "9     24\n",
       "10    24\n",
       "11    24\n",
       "12    24\n",
       "13    24\n",
       "14    24\n",
       "15    24\n",
       "16    24\n",
       "17    18\n",
       "18    18\n",
       "19    18\n",
       "20    17\n",
       "21    17\n",
       "22    15\n",
       "23    15\n",
       "24    15\n",
       "25    15\n",
       "26    15\n",
       "27    15\n",
       "28    13\n",
       "29    13\n",
       "30    13\n",
       "31     6\n",
       "32     6\n",
       "33     6\n",
       "34     6\n",
       "35     6\n",
       "36     6\n",
       "37     6\n",
       "38     5\n",
       "39     5\n",
       "40     5\n",
       "41     5\n",
       "42     4\n",
       "43     4\n",
       "44     4\n",
       "45     4\n",
       "46     4\n",
       "47     4\n",
       "48     4\n",
       "49     3\n",
       "Name: date, dtype: int64"
      ]
     },
     "execution_count": 18,
     "metadata": {},
     "output_type": "execute_result"
    }
   ],
   "source": [
    "data['date'].dt.day.head(50)"
   ]
  },
  {
   "cell_type": "markdown",
   "id": "mechanical-nothing",
   "metadata": {
    "ExecuteTime": {
     "end_time": "2021-04-09T07:36:10.164590Z",
     "start_time": "2021-04-09T07:36:10.156062Z"
    }
   },
   "source": [
    "##### Datetime method\n",
    "\n",
    "To extract name (text) from datetime component, we can use its **method** (with bracket)"
   ]
  },
  {
   "cell_type": "code",
   "execution_count": 21,
   "id": "whole-madness",
   "metadata": {
    "ExecuteTime": {
     "end_time": "2021-04-12T10:20:52.379235Z",
     "start_time": "2021-04-12T10:20:52.329382Z"
    }
   },
   "outputs": [
    {
     "data": {
      "text/plain": [
       "0          Thursday\n",
       "1         Wednesday\n",
       "2           Tuesday\n",
       "3           Tuesday\n",
       "4           Tuesday\n",
       "            ...    \n",
       "153626       Friday\n",
       "153627       Friday\n",
       "153628       Friday\n",
       "153629       Friday\n",
       "153630       Friday\n",
       "Name: date, Length: 153631, dtype: object"
      ]
     },
     "execution_count": 21,
     "metadata": {},
     "output_type": "execute_result"
    }
   ],
   "source": [
    "data['date'].dt.day_name()"
   ]
  },
  {
   "cell_type": "code",
   "execution_count": 22,
   "id": "macro-noise",
   "metadata": {
    "ExecuteTime": {
     "end_time": "2021-04-12T10:20:56.210724Z",
     "start_time": "2021-04-12T10:20:56.168014Z"
    }
   },
   "outputs": [
    {
     "data": {
      "text/plain": [
       "0         March\n",
       "1         March\n",
       "2         March\n",
       "3         March\n",
       "4         March\n",
       "          ...  \n",
       "153626     July\n",
       "153627     July\n",
       "153628     July\n",
       "153629     July\n",
       "153630     July\n",
       "Name: date, Length: 153631, dtype: object"
      ]
     },
     "execution_count": 22,
     "metadata": {},
     "output_type": "execute_result"
    }
   ],
   "source": [
    "data['date'].dt.month_name()"
   ]
  },
  {
   "cell_type": "markdown",
   "id": "tamil-drill",
   "metadata": {},
   "source": [
    "##### Datetime Transformation\n",
    "\n",
    "Supposed we want to transform the existing `datetime64` column into values of periods, we can use the `.to_period()` method:\n",
    "\n",
    "- `.dt.to_period('D')`: Daily (yyyy-mm-dd)\n",
    "- `.dt.to_period('W')`: Weekly (Monday to Sunday period)\n",
    "- `.dt.to_period('M')`: Monthly (year-month)\n",
    "- `.dt.to_period('Q')`: Quarterly (year-quarter)\n",
    "\n",
    "[Documentation of offset aliases](https://pandas.pydata.org/pandas-docs/stable/user_guide/timeseries.html#timeseries-offset-aliases)"
   ]
  },
  {
   "cell_type": "code",
   "execution_count": 27,
   "id": "binary-transsexual",
   "metadata": {
    "ExecuteTime": {
     "end_time": "2021-04-11T05:27:43.439402Z",
     "start_time": "2021-04-11T05:27:43.415952Z"
    }
   },
   "outputs": [
    {
     "data": {
      "text/plain": [
       "0         2021-03-25\n",
       "1         2021-03-24\n",
       "2         2021-03-23\n",
       "3         2021-03-23\n",
       "4         2021-03-23\n",
       "             ...    \n",
       "153626    2018-07-27\n",
       "153627    2018-07-27\n",
       "153628    2018-07-27\n",
       "153629    2018-07-27\n",
       "153630    2018-07-27\n",
       "Name: date, Length: 153631, dtype: period[D]"
      ]
     },
     "execution_count": 27,
     "metadata": {},
     "output_type": "execute_result"
    }
   ],
   "source": [
    "data['date'].dt.to_period('D') # Daily"
   ]
  },
  {
   "cell_type": "code",
   "execution_count": 28,
   "id": "adequate-bedroom",
   "metadata": {
    "ExecuteTime": {
     "end_time": "2021-04-11T05:27:57.438755Z",
     "start_time": "2021-04-11T05:27:57.421093Z"
    }
   },
   "outputs": [
    {
     "data": {
      "text/plain": [
       "0         2021-03-22/2021-03-28\n",
       "1         2021-03-22/2021-03-28\n",
       "2         2021-03-22/2021-03-28\n",
       "3         2021-03-22/2021-03-28\n",
       "4         2021-03-22/2021-03-28\n",
       "                  ...          \n",
       "153626    2018-07-23/2018-07-29\n",
       "153627    2018-07-23/2018-07-29\n",
       "153628    2018-07-23/2018-07-29\n",
       "153629    2018-07-23/2018-07-29\n",
       "153630    2018-07-23/2018-07-29\n",
       "Name: date, Length: 153631, dtype: period[W-SUN]"
      ]
     },
     "execution_count": 28,
     "metadata": {},
     "output_type": "execute_result"
    }
   ],
   "source": [
    "data['date'].dt.to_period('W') # Weekly"
   ]
  },
  {
   "cell_type": "code",
   "execution_count": 29,
   "id": "handled-martial",
   "metadata": {
    "ExecuteTime": {
     "end_time": "2021-04-11T05:28:18.509716Z",
     "start_time": "2021-04-11T05:28:18.492872Z"
    }
   },
   "outputs": [
    {
     "data": {
      "text/plain": [
       "0         2021-03-21/2021-03-27\n",
       "1         2021-03-21/2021-03-27\n",
       "2         2021-03-21/2021-03-27\n",
       "3         2021-03-21/2021-03-27\n",
       "4         2021-03-21/2021-03-27\n",
       "                  ...          \n",
       "153626    2018-07-22/2018-07-28\n",
       "153627    2018-07-22/2018-07-28\n",
       "153628    2018-07-22/2018-07-28\n",
       "153629    2018-07-22/2018-07-28\n",
       "153630    2018-07-22/2018-07-28\n",
       "Name: date, Length: 153631, dtype: period[W-SAT]"
      ]
     },
     "execution_count": 29,
     "metadata": {},
     "output_type": "execute_result"
    }
   ],
   "source": [
    "data['date'].dt.to_period('W-SAT') # Weekly Saturday: Sunday/Saturday"
   ]
  },
  {
   "cell_type": "code",
   "execution_count": 30,
   "id": "superb-mounting",
   "metadata": {
    "ExecuteTime": {
     "end_time": "2021-04-11T05:28:33.403033Z",
     "start_time": "2021-04-11T05:28:33.388298Z"
    }
   },
   "outputs": [
    {
     "data": {
      "text/plain": [
       "0         2021-03\n",
       "1         2021-03\n",
       "2         2021-03\n",
       "3         2021-03\n",
       "4         2021-03\n",
       "           ...   \n",
       "153626    2018-07\n",
       "153627    2018-07\n",
       "153628    2018-07\n",
       "153629    2018-07\n",
       "153630    2018-07\n",
       "Name: date, Length: 153631, dtype: period[M]"
      ]
     },
     "execution_count": 30,
     "metadata": {},
     "output_type": "execute_result"
    }
   ],
   "source": [
    "data['date'].dt.to_period('M') # Monthly: year-month"
   ]
  },
  {
   "cell_type": "code",
   "execution_count": 31,
   "id": "christian-advisory",
   "metadata": {
    "ExecuteTime": {
     "end_time": "2021-04-11T05:28:48.831549Z",
     "start_time": "2021-04-11T05:28:48.816218Z"
    }
   },
   "outputs": [
    {
     "data": {
      "text/plain": [
       "0         2021Q1\n",
       "1         2021Q1\n",
       "2         2021Q1\n",
       "3         2021Q1\n",
       "4         2021Q1\n",
       "           ...  \n",
       "153626    2018Q3\n",
       "153627    2018Q3\n",
       "153628    2018Q3\n",
       "153629    2018Q3\n",
       "153630    2018Q3\n",
       "Name: date, Length: 153631, dtype: period[Q-DEC]"
      ]
     },
     "execution_count": 31,
     "metadata": {},
     "output_type": "execute_result"
    }
   ],
   "source": [
    "data['date'].dt.to_period('Q') # Quarterly: yearQ[1/2/3/4]"
   ]
  },
  {
   "cell_type": "code",
   "execution_count": 23,
   "id": "trained-presence",
   "metadata": {
    "ExecuteTime": {
     "end_time": "2021-04-12T10:24:27.337414Z",
     "start_time": "2021-04-12T10:24:27.286671Z"
    }
   },
   "outputs": [],
   "source": [
    "data['Day'] = data['date'].dt.day_name()"
   ]
  },
  {
   "cell_type": "code",
   "execution_count": 24,
   "id": "genuine-brook",
   "metadata": {
    "ExecuteTime": {
     "end_time": "2021-04-12T10:24:37.133834Z",
     "start_time": "2021-04-12T10:24:37.091077Z"
    }
   },
   "outputs": [],
   "source": [
    "data['Month'] = data['date'].dt.month_name()"
   ]
  },
  {
   "cell_type": "code",
   "execution_count": 25,
   "id": "grave-vehicle",
   "metadata": {
    "ExecuteTime": {
     "end_time": "2021-04-12T10:24:46.197789Z",
     "start_time": "2021-04-12T10:24:46.180869Z"
    }
   },
   "outputs": [],
   "source": [
    "data['Period'] = data['date'].dt.to_period('Q')"
   ]
  },
  {
   "cell_type": "code",
   "execution_count": 27,
   "id": "measured-hands",
   "metadata": {
    "ExecuteTime": {
     "end_time": "2021-04-12T10:24:55.437300Z",
     "start_time": "2021-04-12T10:24:55.423271Z"
    }
   },
   "outputs": [
    {
     "data": {
      "text/html": [
       "<div>\n",
       "<style scoped>\n",
       "    .dataframe tbody tr th:only-of-type {\n",
       "        vertical-align: middle;\n",
       "    }\n",
       "\n",
       "    .dataframe tbody tr th {\n",
       "        vertical-align: top;\n",
       "    }\n",
       "\n",
       "    .dataframe thead th {\n",
       "        text-align: right;\n",
       "    }\n",
       "</style>\n",
       "<table border=\"1\" class=\"dataframe\">\n",
       "  <thead>\n",
       "    <tr style=\"text-align: right;\">\n",
       "      <th></th>\n",
       "      <th>number</th>\n",
       "      <th>date</th>\n",
       "      <th>customer</th>\n",
       "      <th>source</th>\n",
       "      <th>store</th>\n",
       "      <th>Day</th>\n",
       "      <th>Month</th>\n",
       "      <th>Period</th>\n",
       "    </tr>\n",
       "  </thead>\n",
       "  <tbody>\n",
       "    <tr>\n",
       "      <th>0</th>\n",
       "      <td>SO-RJ-079482</td>\n",
       "      <td>2021-03-25</td>\n",
       "      <td>ELFAS</td>\n",
       "      <td>Bukalapak</td>\n",
       "      <td>RAJAWALI</td>\n",
       "      <td>Thursday</td>\n",
       "      <td>March</td>\n",
       "      <td>2021Q1</td>\n",
       "    </tr>\n",
       "    <tr>\n",
       "      <th>1</th>\n",
       "      <td>SO-RJ-660201</td>\n",
       "      <td>2021-03-24</td>\n",
       "      <td>ASEP</td>\n",
       "      <td>CS Pusat (Andre)</td>\n",
       "      <td>RAJAWALI</td>\n",
       "      <td>Wednesday</td>\n",
       "      <td>March</td>\n",
       "      <td>2021Q1</td>\n",
       "    </tr>\n",
       "    <tr>\n",
       "      <th>2</th>\n",
       "      <td>SO-RJ-716739</td>\n",
       "      <td>2021-03-23</td>\n",
       "      <td>HERMAWANTO</td>\n",
       "      <td>Facebook</td>\n",
       "      <td>RAJAWALI</td>\n",
       "      <td>Tuesday</td>\n",
       "      <td>March</td>\n",
       "      <td>2021Q1</td>\n",
       "    </tr>\n",
       "    <tr>\n",
       "      <th>3</th>\n",
       "      <td>SO-RJ-819431</td>\n",
       "      <td>2021-03-23</td>\n",
       "      <td>ZULMI</td>\n",
       "      <td>Bukalapak</td>\n",
       "      <td>RAJAWALI</td>\n",
       "      <td>Tuesday</td>\n",
       "      <td>March</td>\n",
       "      <td>2021Q1</td>\n",
       "    </tr>\n",
       "    <tr>\n",
       "      <th>4</th>\n",
       "      <td>SO-RJ-631156</td>\n",
       "      <td>2021-03-23</td>\n",
       "      <td>ALBERTUS PURNOMO RIYANTO</td>\n",
       "      <td>Pameran</td>\n",
       "      <td>RAJAWALI</td>\n",
       "      <td>Tuesday</td>\n",
       "      <td>March</td>\n",
       "      <td>2021Q1</td>\n",
       "    </tr>\n",
       "  </tbody>\n",
       "</table>\n",
       "</div>"
      ],
      "text/plain": [
       "         number       date                  customer            source  \\\n",
       "0  SO-RJ-079482 2021-03-25                     ELFAS         Bukalapak   \n",
       "1  SO-RJ-660201 2021-03-24                      ASEP  CS Pusat (Andre)   \n",
       "2  SO-RJ-716739 2021-03-23                HERMAWANTO          Facebook   \n",
       "3  SO-RJ-819431 2021-03-23                     ZULMI         Bukalapak   \n",
       "4  SO-RJ-631156 2021-03-23  ALBERTUS PURNOMO RIYANTO           Pameran   \n",
       "\n",
       "      store        Day  Month  Period  \n",
       "0  RAJAWALI   Thursday  March  2021Q1  \n",
       "1  RAJAWALI  Wednesday  March  2021Q1  \n",
       "2  RAJAWALI    Tuesday  March  2021Q1  \n",
       "3  RAJAWALI    Tuesday  March  2021Q1  \n",
       "4  RAJAWALI    Tuesday  March  2021Q1  "
      ]
     },
     "execution_count": 27,
     "metadata": {},
     "output_type": "execute_result"
    }
   ],
   "source": [
    "data.head()"
   ]
  },
  {
   "cell_type": "markdown",
   "id": "enclosed-haven",
   "metadata": {
    "ExecuteTime": {
     "end_time": "2021-04-09T06:52:39.516301Z",
     "start_time": "2021-04-09T06:52:39.511257Z"
    }
   },
   "source": [
    "#### Contingency Table\n",
    "\n",
    "One of the simplest EDA toolkit to display **counts** of a categorical column:\n",
    "\n",
    "Contingency = Cross-tabulation = Frequency tables"
   ]
  },
  {
   "cell_type": "code",
   "execution_count": 29,
   "id": "matched-norfolk",
   "metadata": {
    "ExecuteTime": {
     "end_time": "2021-04-12T10:28:19.311036Z",
     "start_time": "2021-04-12T10:28:19.297617Z"
    }
   },
   "outputs": [],
   "source": [
    "data2 = data.copy()"
   ]
  },
  {
   "cell_type": "markdown",
   "id": "restricted-firmware",
   "metadata": {},
   "source": [
    "##### Method `.value_counts()`"
   ]
  },
  {
   "cell_type": "markdown",
   "id": "uniform-morning",
   "metadata": {},
   "source": [
    "Usage: Get the counts of each unique levels in one categorical column, sorted by descending order.\n",
    "\n",
    "Parameter:\n",
    "\n",
    "- `sort=False`: prevent any sorting values, **sort by index** instead\n",
    "- `ascending=True`: **sort values** in ascending order"
   ]
  },
  {
   "cell_type": "code",
   "execution_count": 30,
   "id": "driven-electronics",
   "metadata": {
    "ExecuteTime": {
     "end_time": "2021-04-12T10:28:21.058703Z",
     "start_time": "2021-04-12T10:28:21.050590Z"
    }
   },
   "outputs": [
    {
     "data": {
      "text/plain": [
       "Langganan               12126\n",
       "Google Businees/Maps     6102\n",
       "Spanduk Toko             5830\n",
       "Sparepart                3328\n",
       "Facebook                 3222\n",
       "Teman                    2904\n",
       "Tokopedia                2888\n",
       "Instagram                2324\n",
       "OLX                      2245\n",
       "Google Pencarian         2022\n",
       "CS Pusat (Andre)          972\n",
       "Website                   798\n",
       "Komunitas                 538\n",
       "Grab Benefits             386\n",
       "Bukalapak                 386\n",
       "Pameran                   234\n",
       "Remarketing               219\n",
       "Shopee                    154\n",
       "Youtube                   117\n",
       "Blibli                    110\n",
       "Lazada                     53\n",
       "Sales                      14\n",
       "Ralali                      7\n",
       "PROMOSI                     6\n",
       "Name: source, dtype: int64"
      ]
     },
     "execution_count": 30,
     "metadata": {},
     "output_type": "execute_result"
    }
   ],
   "source": [
    "data2['source'].value_counts()"
   ]
  },
  {
   "cell_type": "markdown",
   "id": "ruled-indication",
   "metadata": {},
   "source": [
    "<b id='q1'>Business Question 1</b>\n",
    "\n",
    "There are three categories of `source` (informasi pembelian), how many total transactions occurred in each `informasi pembelian`?"
   ]
  },
  {
   "cell_type": "code",
   "execution_count": 47,
   "id": "consecutive-belarus",
   "metadata": {
    "ExecuteTime": {
     "end_time": "2021-04-11T05:35:31.927987Z",
     "start_time": "2021-04-11T05:35:31.919752Z"
    }
   },
   "outputs": [
    {
     "data": {
      "text/plain": [
       "Langganan               12126\n",
       "Google Businees/Maps     6102\n",
       "Spanduk Toko             5830\n",
       "Sparepart                3328\n",
       "Facebook                 3222\n",
       "Teman                    2904\n",
       "Tokopedia                2888\n",
       "Instagram                2324\n",
       "OLX                      2245\n",
       "Google Pencarian         2022\n",
       "CS Pusat (Andre)          972\n",
       "Website                   798\n",
       "Komunitas                 538\n",
       "Grab Benefits             386\n",
       "Bukalapak                 386\n",
       "Pameran                   234\n",
       "Remarketing               219\n",
       "Shopee                    154\n",
       "Youtube                   117\n",
       "Blibli                    110\n",
       "Lazada                     53\n",
       "Sales                      14\n",
       "Ralali                      7\n",
       "PROMOSI                     6\n",
       "Name: source, dtype: int64"
      ]
     },
     "execution_count": 47,
     "metadata": {},
     "output_type": "execute_result"
    }
   ],
   "source": [
    "## use value_counts()\n",
    "data2['source'].value_counts()"
   ]
  },
  {
   "cell_type": "markdown",
   "id": "welsh-index",
   "metadata": {},
   "source": [
    "<b id='q2'>Business Question 2</b>\n",
    "\n",
    "Which `weekday` has the **largest** and **smallest** transaction volume?"
   ]
  },
  {
   "cell_type": "code",
   "execution_count": 32,
   "id": "billion-bookmark",
   "metadata": {
    "ExecuteTime": {
     "end_time": "2021-04-12T10:30:08.173309Z",
     "start_time": "2021-04-12T10:30:08.149774Z"
    }
   },
   "outputs": [
    {
     "data": {
      "text/plain": [
       "Saturday     29405\n",
       "Sunday       24617\n",
       "Friday       20775\n",
       "Thursday     20383\n",
       "Monday       20003\n",
       "Tuesday      19347\n",
       "Wednesday    19101\n",
       "Name: Day, dtype: int64"
      ]
     },
     "execution_count": 32,
     "metadata": {},
     "output_type": "execute_result"
    }
   ],
   "source": [
    "data2['Day'].value_counts().sort_values(ascending=False)"
   ]
  },
  {
   "cell_type": "markdown",
   "id": "imported-ontario",
   "metadata": {},
   "source": [
    "##### Cross-Tabulation"
   ]
  },
  {
   "cell_type": "markdown",
   "id": "outside-knitting",
   "metadata": {},
   "source": [
    "Versatile solution in producing frequency table is by using `crosstab`. Syntax:\n",
    "\n",
    "    pd.crosstab(\n",
    "        index=...,\n",
    "        columns=...\n",
    "    )\n",
    "                \n",
    "**Required Parameter**:\n",
    "\n",
    "- `index`: Values to group by in the index (rows)\n",
    "- `columns`: Values to group by in the columns"
   ]
  },
  {
   "cell_type": "markdown",
   "id": "distinguished-buddy",
   "metadata": {},
   "source": [
    "Let's re-create [Business Question 1](#q1) using `pd.crosstab()`:\n",
    "\n",
    "How many total transactions occurred in each `source`?"
   ]
  },
  {
   "cell_type": "code",
   "execution_count": 33,
   "id": "committed-celtic",
   "metadata": {
    "ExecuteTime": {
     "end_time": "2021-04-12T10:31:45.183026Z",
     "start_time": "2021-04-12T10:31:45.109839Z"
    }
   },
   "outputs": [
    {
     "data": {
      "text/html": [
       "<div>\n",
       "<style scoped>\n",
       "    .dataframe tbody tr th:only-of-type {\n",
       "        vertical-align: middle;\n",
       "    }\n",
       "\n",
       "    .dataframe tbody tr th {\n",
       "        vertical-align: top;\n",
       "    }\n",
       "\n",
       "    .dataframe thead th {\n",
       "        text-align: right;\n",
       "    }\n",
       "</style>\n",
       "<table border=\"1\" class=\"dataframe\">\n",
       "  <thead>\n",
       "    <tr style=\"text-align: right;\">\n",
       "      <th>col_0</th>\n",
       "      <th>Total</th>\n",
       "    </tr>\n",
       "    <tr>\n",
       "      <th>source</th>\n",
       "      <th></th>\n",
       "    </tr>\n",
       "  </thead>\n",
       "  <tbody>\n",
       "    <tr>\n",
       "      <th>Blibli</th>\n",
       "      <td>110</td>\n",
       "    </tr>\n",
       "    <tr>\n",
       "      <th>Bukalapak</th>\n",
       "      <td>386</td>\n",
       "    </tr>\n",
       "    <tr>\n",
       "      <th>CS Pusat (Andre)</th>\n",
       "      <td>972</td>\n",
       "    </tr>\n",
       "    <tr>\n",
       "      <th>Facebook</th>\n",
       "      <td>3222</td>\n",
       "    </tr>\n",
       "    <tr>\n",
       "      <th>Google Businees/Maps</th>\n",
       "      <td>6102</td>\n",
       "    </tr>\n",
       "    <tr>\n",
       "      <th>Google Pencarian</th>\n",
       "      <td>2022</td>\n",
       "    </tr>\n",
       "    <tr>\n",
       "      <th>Grab Benefits</th>\n",
       "      <td>386</td>\n",
       "    </tr>\n",
       "    <tr>\n",
       "      <th>Instagram</th>\n",
       "      <td>2324</td>\n",
       "    </tr>\n",
       "    <tr>\n",
       "      <th>Komunitas</th>\n",
       "      <td>538</td>\n",
       "    </tr>\n",
       "    <tr>\n",
       "      <th>Langganan</th>\n",
       "      <td>12126</td>\n",
       "    </tr>\n",
       "    <tr>\n",
       "      <th>Lazada</th>\n",
       "      <td>53</td>\n",
       "    </tr>\n",
       "    <tr>\n",
       "      <th>OLX</th>\n",
       "      <td>2245</td>\n",
       "    </tr>\n",
       "    <tr>\n",
       "      <th>PROMOSI</th>\n",
       "      <td>6</td>\n",
       "    </tr>\n",
       "    <tr>\n",
       "      <th>Pameran</th>\n",
       "      <td>234</td>\n",
       "    </tr>\n",
       "    <tr>\n",
       "      <th>Ralali</th>\n",
       "      <td>7</td>\n",
       "    </tr>\n",
       "    <tr>\n",
       "      <th>Remarketing</th>\n",
       "      <td>219</td>\n",
       "    </tr>\n",
       "    <tr>\n",
       "      <th>Sales</th>\n",
       "      <td>14</td>\n",
       "    </tr>\n",
       "    <tr>\n",
       "      <th>Shopee</th>\n",
       "      <td>154</td>\n",
       "    </tr>\n",
       "    <tr>\n",
       "      <th>Spanduk Toko</th>\n",
       "      <td>5830</td>\n",
       "    </tr>\n",
       "    <tr>\n",
       "      <th>Sparepart</th>\n",
       "      <td>3328</td>\n",
       "    </tr>\n",
       "    <tr>\n",
       "      <th>Teman</th>\n",
       "      <td>2904</td>\n",
       "    </tr>\n",
       "    <tr>\n",
       "      <th>Tokopedia</th>\n",
       "      <td>2888</td>\n",
       "    </tr>\n",
       "    <tr>\n",
       "      <th>Website</th>\n",
       "      <td>798</td>\n",
       "    </tr>\n",
       "    <tr>\n",
       "      <th>Youtube</th>\n",
       "      <td>117</td>\n",
       "    </tr>\n",
       "  </tbody>\n",
       "</table>\n",
       "</div>"
      ],
      "text/plain": [
       "col_0                 Total\n",
       "source                     \n",
       "Blibli                  110\n",
       "Bukalapak               386\n",
       "CS Pusat (Andre)        972\n",
       "Facebook               3222\n",
       "Google Businees/Maps   6102\n",
       "Google Pencarian       2022\n",
       "Grab Benefits           386\n",
       "Instagram              2324\n",
       "Komunitas               538\n",
       "Langganan             12126\n",
       "Lazada                   53\n",
       "OLX                    2245\n",
       "PROMOSI                   6\n",
       "Pameran                 234\n",
       "Ralali                    7\n",
       "Remarketing             219\n",
       "Sales                    14\n",
       "Shopee                  154\n",
       "Spanduk Toko           5830\n",
       "Sparepart              3328\n",
       "Teman                  2904\n",
       "Tokopedia              2888\n",
       "Website                 798\n",
       "Youtube                 117"
      ]
     },
     "execution_count": 33,
     "metadata": {},
     "output_type": "execute_result"
    }
   ],
   "source": [
    "pd.crosstab(\n",
    "    index=data2['source'],\n",
    "    columns='Total'\n",
    ")"
   ]
  },
  {
   "cell_type": "code",
   "execution_count": 55,
   "id": "amazing-cooler",
   "metadata": {
    "ExecuteTime": {
     "end_time": "2021-04-11T05:38:25.431583Z",
     "start_time": "2021-04-11T05:38:25.391027Z"
    }
   },
   "outputs": [
    {
     "data": {
      "text/html": [
       "<div>\n",
       "<style scoped>\n",
       "    .dataframe tbody tr th:only-of-type {\n",
       "        vertical-align: middle;\n",
       "    }\n",
       "\n",
       "    .dataframe tbody tr th {\n",
       "        vertical-align: top;\n",
       "    }\n",
       "\n",
       "    .dataframe thead th {\n",
       "        text-align: right;\n",
       "    }\n",
       "</style>\n",
       "<table border=\"1\" class=\"dataframe\">\n",
       "  <thead>\n",
       "    <tr style=\"text-align: right;\">\n",
       "      <th>col_0</th>\n",
       "      <th>Total</th>\n",
       "    </tr>\n",
       "    <tr>\n",
       "      <th>source</th>\n",
       "      <th></th>\n",
       "    </tr>\n",
       "  </thead>\n",
       "  <tbody>\n",
       "    <tr>\n",
       "      <th>Langganan</th>\n",
       "      <td>12126</td>\n",
       "    </tr>\n",
       "    <tr>\n",
       "      <th>Google Businees/Maps</th>\n",
       "      <td>6102</td>\n",
       "    </tr>\n",
       "    <tr>\n",
       "      <th>Spanduk Toko</th>\n",
       "      <td>5830</td>\n",
       "    </tr>\n",
       "    <tr>\n",
       "      <th>Sparepart</th>\n",
       "      <td>3328</td>\n",
       "    </tr>\n",
       "    <tr>\n",
       "      <th>Facebook</th>\n",
       "      <td>3222</td>\n",
       "    </tr>\n",
       "    <tr>\n",
       "      <th>Teman</th>\n",
       "      <td>2904</td>\n",
       "    </tr>\n",
       "    <tr>\n",
       "      <th>Tokopedia</th>\n",
       "      <td>2888</td>\n",
       "    </tr>\n",
       "    <tr>\n",
       "      <th>Instagram</th>\n",
       "      <td>2324</td>\n",
       "    </tr>\n",
       "    <tr>\n",
       "      <th>OLX</th>\n",
       "      <td>2245</td>\n",
       "    </tr>\n",
       "    <tr>\n",
       "      <th>Google Pencarian</th>\n",
       "      <td>2022</td>\n",
       "    </tr>\n",
       "    <tr>\n",
       "      <th>CS Pusat (Andre)</th>\n",
       "      <td>972</td>\n",
       "    </tr>\n",
       "    <tr>\n",
       "      <th>Website</th>\n",
       "      <td>798</td>\n",
       "    </tr>\n",
       "    <tr>\n",
       "      <th>Komunitas</th>\n",
       "      <td>538</td>\n",
       "    </tr>\n",
       "    <tr>\n",
       "      <th>Grab Benefits</th>\n",
       "      <td>386</td>\n",
       "    </tr>\n",
       "    <tr>\n",
       "      <th>Bukalapak</th>\n",
       "      <td>386</td>\n",
       "    </tr>\n",
       "    <tr>\n",
       "      <th>Pameran</th>\n",
       "      <td>234</td>\n",
       "    </tr>\n",
       "    <tr>\n",
       "      <th>Remarketing</th>\n",
       "      <td>219</td>\n",
       "    </tr>\n",
       "    <tr>\n",
       "      <th>Shopee</th>\n",
       "      <td>154</td>\n",
       "    </tr>\n",
       "    <tr>\n",
       "      <th>Youtube</th>\n",
       "      <td>117</td>\n",
       "    </tr>\n",
       "    <tr>\n",
       "      <th>Blibli</th>\n",
       "      <td>110</td>\n",
       "    </tr>\n",
       "    <tr>\n",
       "      <th>Lazada</th>\n",
       "      <td>53</td>\n",
       "    </tr>\n",
       "    <tr>\n",
       "      <th>Sales</th>\n",
       "      <td>14</td>\n",
       "    </tr>\n",
       "    <tr>\n",
       "      <th>Ralali</th>\n",
       "      <td>7</td>\n",
       "    </tr>\n",
       "    <tr>\n",
       "      <th>PROMOSI</th>\n",
       "      <td>6</td>\n",
       "    </tr>\n",
       "  </tbody>\n",
       "</table>\n",
       "</div>"
      ],
      "text/plain": [
       "col_0                 Total\n",
       "source                     \n",
       "Langganan             12126\n",
       "Google Businees/Maps   6102\n",
       "Spanduk Toko           5830\n",
       "Sparepart              3328\n",
       "Facebook               3222\n",
       "Teman                  2904\n",
       "Tokopedia              2888\n",
       "Instagram              2324\n",
       "OLX                    2245\n",
       "Google Pencarian       2022\n",
       "CS Pusat (Andre)        972\n",
       "Website                 798\n",
       "Komunitas               538\n",
       "Grab Benefits           386\n",
       "Bukalapak               386\n",
       "Pameran                 234\n",
       "Remarketing             219\n",
       "Shopee                  154\n",
       "Youtube                 117\n",
       "Blibli                  110\n",
       "Lazada                   53\n",
       "Sales                    14\n",
       "Ralali                    7\n",
       "PROMOSI                   6"
      ]
     },
     "execution_count": 55,
     "metadata": {},
     "output_type": "execute_result"
    }
   ],
   "source": [
    "pd.crosstab(\n",
    "    index=data2['source'],\n",
    "    columns='Total'\n",
    ").sort_values('Total',ascending=False)"
   ]
  },
  {
   "cell_type": "markdown",
   "id": "chief-minute",
   "metadata": {},
   "source": [
    "#### Summary: Tables in `pandas` "
   ]
  },
  {
   "cell_type": "markdown",
   "id": "modified-spokesman",
   "metadata": {},
   "source": [
    "##### Frequency Tables\n",
    "\n",
    "Usage: calculate number of rows for categorical column\n",
    "\n",
    "Methods:\n",
    "\n",
    "- For one column, use `.value_counts()` (Series)\n",
    "- For one or more columns:\n",
    "    - `pd.crosstab(index, columns)` -> parameter `normalize`\n",
    "    - `pd.pivot_table(index, columns, aggfunc='count')` but rarely used, doesn't have `normalize`"
   ]
  },
  {
   "cell_type": "markdown",
   "id": "scenic-winter",
   "metadata": {},
   "source": [
    "##### Aggregation Tables\n",
    "\n",
    "Usage: aggregate numerical column which broken down by categorical column\n",
    "\n",
    "Methods:\n",
    "\n",
    "- `pd.crosstab(index, columns, values, aggfunc)`\n",
    "- `pd.pivot_table(data, index, columns, values, aggfunc)`"
   ]
  },
  {
   "cell_type": "markdown",
   "id": "emerging-living",
   "metadata": {},
   "source": [
    "##### crosstab vs pivot_table"
   ]
  },
  {
   "cell_type": "markdown",
   "id": "comic-friendly",
   "metadata": {},
   "source": [
    "The main differences between `crosstab` and `pivot_table` can be summarized as follows:\n",
    "\n",
    "|                                                                                    | `pd.crosstab()` | `pd.pivot_table()` |\n",
    "|------------------------------------------------------------------------------------|-----------------|--------------------|\n",
    "|                                                                          **Input** | Array of values |          DataFrame |\n",
    "|                                                              **Default `aggfunc`** |       `'count'` |           `'mean'` |\n",
    "|                                                          **Parameter `normalize`** |       Available |      Not Available |\n",
    "| [**Computation Time**](https://ramiro.org/notebook/pandas-crosstab-groupby-pivot/) | Relatively Slower |  Relatively Faster |"
   ]
  },
  {
   "cell_type": "markdown",
   "id": "funded-associate",
   "metadata": {},
   "source": [
    "#### Missing Values"
   ]
  },
  {
   "cell_type": "markdown",
   "id": "quarterly-emphasis",
   "metadata": {},
   "source": [
    "During the data exploration and preparation phase, it is likely we come across some problematic details in our data, such as: \n",
    "\n",
    "- Value of _-1_ for the _age_ column\n",
    "- Value of _blank_ for the _customer segment_ column\n",
    "- Value of _None_ for the _loan duration_ column\n",
    "- etc\n",
    "\n",
    "All of these are examples of \"untidy\" data, which is rather common depending on the data collection and recording process in a company."
   ]
  },
  {
   "cell_type": "markdown",
   "id": "certain-manual",
   "metadata": {},
   "source": [
    "##### Missing Values\n",
    "\n",
    "Missing Values:\n",
    "\n",
    "- `NaN`: Not a Number, for object and category\n",
    "- `nan`: not a number, for numeric\n",
    "- `NaT`: Not a Time, for datetime64"
   ]
  },
  {
   "cell_type": "markdown",
   "id": "weekly-discipline",
   "metadata": {},
   "source": [
    "##### Check Missing Values\n",
    "\n",
    "A common method to detect missing values:\n",
    "\n",
    "- `.isna()`: returns `True` if the values are missing.\n",
    "- `.notna()`: returns `True` if the values are **not** missing."
   ]
  },
  {
   "cell_type": "code",
   "execution_count": 37,
   "id": "dependent-delta",
   "metadata": {
    "ExecuteTime": {
     "end_time": "2021-04-12T10:36:24.010742Z",
     "start_time": "2021-04-12T10:36:23.961722Z"
    }
   },
   "outputs": [
    {
     "data": {
      "text/html": [
       "<div>\n",
       "<style scoped>\n",
       "    .dataframe tbody tr th:only-of-type {\n",
       "        vertical-align: middle;\n",
       "    }\n",
       "\n",
       "    .dataframe tbody tr th {\n",
       "        vertical-align: top;\n",
       "    }\n",
       "\n",
       "    .dataframe thead th {\n",
       "        text-align: right;\n",
       "    }\n",
       "</style>\n",
       "<table border=\"1\" class=\"dataframe\">\n",
       "  <thead>\n",
       "    <tr style=\"text-align: right;\">\n",
       "      <th></th>\n",
       "      <th>number</th>\n",
       "      <th>date</th>\n",
       "      <th>customer</th>\n",
       "      <th>source</th>\n",
       "      <th>store</th>\n",
       "      <th>Day</th>\n",
       "      <th>Month</th>\n",
       "      <th>Period</th>\n",
       "    </tr>\n",
       "  </thead>\n",
       "  <tbody>\n",
       "    <tr>\n",
       "      <th>0</th>\n",
       "      <td>False</td>\n",
       "      <td>False</td>\n",
       "      <td>False</td>\n",
       "      <td>False</td>\n",
       "      <td>False</td>\n",
       "      <td>False</td>\n",
       "      <td>False</td>\n",
       "      <td>False</td>\n",
       "    </tr>\n",
       "    <tr>\n",
       "      <th>1</th>\n",
       "      <td>False</td>\n",
       "      <td>False</td>\n",
       "      <td>False</td>\n",
       "      <td>False</td>\n",
       "      <td>False</td>\n",
       "      <td>False</td>\n",
       "      <td>False</td>\n",
       "      <td>False</td>\n",
       "    </tr>\n",
       "    <tr>\n",
       "      <th>2</th>\n",
       "      <td>False</td>\n",
       "      <td>False</td>\n",
       "      <td>False</td>\n",
       "      <td>False</td>\n",
       "      <td>False</td>\n",
       "      <td>False</td>\n",
       "      <td>False</td>\n",
       "      <td>False</td>\n",
       "    </tr>\n",
       "    <tr>\n",
       "      <th>3</th>\n",
       "      <td>False</td>\n",
       "      <td>False</td>\n",
       "      <td>False</td>\n",
       "      <td>False</td>\n",
       "      <td>False</td>\n",
       "      <td>False</td>\n",
       "      <td>False</td>\n",
       "      <td>False</td>\n",
       "    </tr>\n",
       "    <tr>\n",
       "      <th>4</th>\n",
       "      <td>False</td>\n",
       "      <td>False</td>\n",
       "      <td>False</td>\n",
       "      <td>False</td>\n",
       "      <td>False</td>\n",
       "      <td>False</td>\n",
       "      <td>False</td>\n",
       "      <td>False</td>\n",
       "    </tr>\n",
       "    <tr>\n",
       "      <th>...</th>\n",
       "      <td>...</td>\n",
       "      <td>...</td>\n",
       "      <td>...</td>\n",
       "      <td>...</td>\n",
       "      <td>...</td>\n",
       "      <td>...</td>\n",
       "      <td>...</td>\n",
       "      <td>...</td>\n",
       "    </tr>\n",
       "    <tr>\n",
       "      <th>153626</th>\n",
       "      <td>False</td>\n",
       "      <td>False</td>\n",
       "      <td>False</td>\n",
       "      <td>True</td>\n",
       "      <td>False</td>\n",
       "      <td>False</td>\n",
       "      <td>False</td>\n",
       "      <td>False</td>\n",
       "    </tr>\n",
       "    <tr>\n",
       "      <th>153627</th>\n",
       "      <td>False</td>\n",
       "      <td>False</td>\n",
       "      <td>False</td>\n",
       "      <td>True</td>\n",
       "      <td>False</td>\n",
       "      <td>False</td>\n",
       "      <td>False</td>\n",
       "      <td>False</td>\n",
       "    </tr>\n",
       "    <tr>\n",
       "      <th>153628</th>\n",
       "      <td>False</td>\n",
       "      <td>False</td>\n",
       "      <td>False</td>\n",
       "      <td>True</td>\n",
       "      <td>False</td>\n",
       "      <td>False</td>\n",
       "      <td>False</td>\n",
       "      <td>False</td>\n",
       "    </tr>\n",
       "    <tr>\n",
       "      <th>153629</th>\n",
       "      <td>False</td>\n",
       "      <td>False</td>\n",
       "      <td>False</td>\n",
       "      <td>True</td>\n",
       "      <td>False</td>\n",
       "      <td>False</td>\n",
       "      <td>False</td>\n",
       "      <td>False</td>\n",
       "    </tr>\n",
       "    <tr>\n",
       "      <th>153630</th>\n",
       "      <td>False</td>\n",
       "      <td>False</td>\n",
       "      <td>False</td>\n",
       "      <td>True</td>\n",
       "      <td>False</td>\n",
       "      <td>False</td>\n",
       "      <td>False</td>\n",
       "      <td>False</td>\n",
       "    </tr>\n",
       "  </tbody>\n",
       "</table>\n",
       "<p>153631 rows × 8 columns</p>\n",
       "</div>"
      ],
      "text/plain": [
       "        number   date  customer  source  store    Day  Month  Period\n",
       "0        False  False     False   False  False  False  False   False\n",
       "1        False  False     False   False  False  False  False   False\n",
       "2        False  False     False   False  False  False  False   False\n",
       "3        False  False     False   False  False  False  False   False\n",
       "4        False  False     False   False  False  False  False   False\n",
       "...        ...    ...       ...     ...    ...    ...    ...     ...\n",
       "153626   False  False     False    True  False  False  False   False\n",
       "153627   False  False     False    True  False  False  False   False\n",
       "153628   False  False     False    True  False  False  False   False\n",
       "153629   False  False     False    True  False  False  False   False\n",
       "153630   False  False     False    True  False  False  False   False\n",
       "\n",
       "[153631 rows x 8 columns]"
      ]
     },
     "execution_count": 37,
     "metadata": {},
     "output_type": "execute_result"
    }
   ],
   "source": [
    "data.isna()"
   ]
  },
  {
   "cell_type": "markdown",
   "id": "weekly-composer",
   "metadata": {},
   "source": [
    "Count the **number** of missing values across each column:\n",
    "\n",
    "- `True` will be treated as 1\n",
    "- `False` will be treated as 0"
   ]
  },
  {
   "cell_type": "code",
   "execution_count": 58,
   "id": "upset-diabetes",
   "metadata": {
    "ExecuteTime": {
     "end_time": "2021-04-11T06:44:40.259533Z",
     "start_time": "2021-04-11T06:44:40.223390Z"
    }
   },
   "outputs": [
    {
     "data": {
      "text/plain": [
       "number           0\n",
       "date             0\n",
       "customer     31647\n",
       "source      106646\n",
       "store            0\n",
       "Day              0\n",
       "Month            0\n",
       "Period           0\n",
       "dtype: int64"
      ]
     },
     "execution_count": 58,
     "metadata": {},
     "output_type": "execute_result"
    }
   ],
   "source": [
    "data.isna().sum()"
   ]
  },
  {
   "cell_type": "code",
   "execution_count": 39,
   "id": "associate-dealer",
   "metadata": {
    "ExecuteTime": {
     "end_time": "2021-04-12T10:38:14.529790Z",
     "start_time": "2021-04-12T10:38:14.524222Z"
    }
   },
   "outputs": [
    {
     "data": {
      "text/plain": [
       "153631"
      ]
     },
     "execution_count": 39,
     "metadata": {},
     "output_type": "execute_result"
    }
   ],
   "source": [
    "data.shape[0]"
   ]
  },
  {
   "cell_type": "code",
   "execution_count": 61,
   "id": "compliant-trade",
   "metadata": {
    "ExecuteTime": {
     "end_time": "2021-04-11T06:47:12.901507Z",
     "start_time": "2021-04-11T06:47:12.865578Z"
    }
   },
   "outputs": [
    {
     "data": {
      "text/plain": [
       "number      0.000000\n",
       "date        0.000000\n",
       "customer    0.205994\n",
       "source      0.694170\n",
       "store       0.000000\n",
       "Day         0.000000\n",
       "Month       0.000000\n",
       "Period      0.000000\n",
       "dtype: float64"
      ]
     },
     "execution_count": 61,
     "metadata": {},
     "output_type": "execute_result"
    }
   ],
   "source": [
    "data.isna().sum() / data.shape[0]"
   ]
  },
  {
   "cell_type": "markdown",
   "id": "interesting-charger",
   "metadata": {},
   "source": [
    "##### Treatment for Missing Value"
   ]
  },
  {
   "cell_type": "markdown",
   "id": "conditional-junior",
   "metadata": {},
   "source": [
    "Three most common ways to deal with missing value:\n",
    "\n",
    "1. Delete column\n",
    "2. Delete row\n",
    "3. Imputation (fill)"
   ]
  },
  {
   "cell_type": "code",
   "execution_count": 40,
   "id": "increasing-tours",
   "metadata": {
    "ExecuteTime": {
     "end_time": "2021-04-12T10:39:40.201571Z",
     "start_time": "2021-04-12T10:39:40.188052Z"
    }
   },
   "outputs": [
    {
     "data": {
      "text/html": [
       "<div>\n",
       "<style scoped>\n",
       "    .dataframe tbody tr th:only-of-type {\n",
       "        vertical-align: middle;\n",
       "    }\n",
       "\n",
       "    .dataframe tbody tr th {\n",
       "        vertical-align: top;\n",
       "    }\n",
       "\n",
       "    .dataframe thead th {\n",
       "        text-align: right;\n",
       "    }\n",
       "</style>\n",
       "<table border=\"1\" class=\"dataframe\">\n",
       "  <thead>\n",
       "    <tr style=\"text-align: right;\">\n",
       "      <th></th>\n",
       "      <th>number</th>\n",
       "      <th>date</th>\n",
       "      <th>customer</th>\n",
       "      <th>source</th>\n",
       "      <th>store</th>\n",
       "      <th>Day</th>\n",
       "      <th>Month</th>\n",
       "      <th>Period</th>\n",
       "    </tr>\n",
       "  </thead>\n",
       "  <tbody>\n",
       "    <tr>\n",
       "      <th>0</th>\n",
       "      <td>SO-RJ-079482</td>\n",
       "      <td>2021-03-25</td>\n",
       "      <td>ELFAS</td>\n",
       "      <td>Bukalapak</td>\n",
       "      <td>RAJAWALI</td>\n",
       "      <td>Thursday</td>\n",
       "      <td>March</td>\n",
       "      <td>2021Q1</td>\n",
       "    </tr>\n",
       "    <tr>\n",
       "      <th>1</th>\n",
       "      <td>SO-RJ-660201</td>\n",
       "      <td>2021-03-24</td>\n",
       "      <td>ASEP</td>\n",
       "      <td>CS Pusat (Andre)</td>\n",
       "      <td>RAJAWALI</td>\n",
       "      <td>Wednesday</td>\n",
       "      <td>March</td>\n",
       "      <td>2021Q1</td>\n",
       "    </tr>\n",
       "    <tr>\n",
       "      <th>2</th>\n",
       "      <td>SO-RJ-716739</td>\n",
       "      <td>2021-03-23</td>\n",
       "      <td>HERMAWANTO</td>\n",
       "      <td>Facebook</td>\n",
       "      <td>RAJAWALI</td>\n",
       "      <td>Tuesday</td>\n",
       "      <td>March</td>\n",
       "      <td>2021Q1</td>\n",
       "    </tr>\n",
       "    <tr>\n",
       "      <th>3</th>\n",
       "      <td>SO-RJ-819431</td>\n",
       "      <td>2021-03-23</td>\n",
       "      <td>ZULMI</td>\n",
       "      <td>Bukalapak</td>\n",
       "      <td>RAJAWALI</td>\n",
       "      <td>Tuesday</td>\n",
       "      <td>March</td>\n",
       "      <td>2021Q1</td>\n",
       "    </tr>\n",
       "    <tr>\n",
       "      <th>4</th>\n",
       "      <td>SO-RJ-631156</td>\n",
       "      <td>2021-03-23</td>\n",
       "      <td>ALBERTUS PURNOMO RIYANTO</td>\n",
       "      <td>Pameran</td>\n",
       "      <td>RAJAWALI</td>\n",
       "      <td>Tuesday</td>\n",
       "      <td>March</td>\n",
       "      <td>2021Q1</td>\n",
       "    </tr>\n",
       "  </tbody>\n",
       "</table>\n",
       "</div>"
      ],
      "text/plain": [
       "         number       date                  customer            source  \\\n",
       "0  SO-RJ-079482 2021-03-25                     ELFAS         Bukalapak   \n",
       "1  SO-RJ-660201 2021-03-24                      ASEP  CS Pusat (Andre)   \n",
       "2  SO-RJ-716739 2021-03-23                HERMAWANTO          Facebook   \n",
       "3  SO-RJ-819431 2021-03-23                     ZULMI         Bukalapak   \n",
       "4  SO-RJ-631156 2021-03-23  ALBERTUS PURNOMO RIYANTO           Pameran   \n",
       "\n",
       "      store        Day  Month  Period  \n",
       "0  RAJAWALI   Thursday  March  2021Q1  \n",
       "1  RAJAWALI  Wednesday  March  2021Q1  \n",
       "2  RAJAWALI    Tuesday  March  2021Q1  \n",
       "3  RAJAWALI    Tuesday  March  2021Q1  \n",
       "4  RAJAWALI    Tuesday  March  2021Q1  "
      ]
     },
     "execution_count": 40,
     "metadata": {},
     "output_type": "execute_result"
    }
   ],
   "source": [
    "data.head()"
   ]
  },
  {
   "cell_type": "markdown",
   "id": "moderate-match",
   "metadata": {},
   "source": [
    "<b>Delete Row</b>\n",
    "\n",
    "When we are certain that the rows with missing value can be safely dropped, we can use `.dropna()` method.\n",
    "\n",
    "- `.dropna(how='any')`: drops row if **minimum 1 column** contain missing value\n",
    "\n",
    "- `.dropna(how='all')`: drops row if **all values** are missing\n",
    "\n",
    "- `.dropna(thresh=...)`: drops row if non-missing values < `thresh` "
   ]
  },
  {
   "cell_type": "code",
   "execution_count": null,
   "id": "prescription-norfolk",
   "metadata": {},
   "outputs": [],
   "source": []
  },
  {
   "cell_type": "markdown",
   "id": "excess-feeding",
   "metadata": {},
   "source": [
    "<b>Imputation </b>\n",
    "\n",
    "Fill missing value with some value, using `.fillna()` method"
   ]
  },
  {
   "cell_type": "code",
   "execution_count": 62,
   "id": "breathing-angola",
   "metadata": {
    "ExecuteTime": {
     "end_time": "2021-04-11T06:49:17.325372Z",
     "start_time": "2021-04-11T06:49:17.280455Z"
    }
   },
   "outputs": [
    {
     "data": {
      "text/html": [
       "<div>\n",
       "<style scoped>\n",
       "    .dataframe tbody tr th:only-of-type {\n",
       "        vertical-align: middle;\n",
       "    }\n",
       "\n",
       "    .dataframe tbody tr th {\n",
       "        vertical-align: top;\n",
       "    }\n",
       "\n",
       "    .dataframe thead th {\n",
       "        text-align: right;\n",
       "    }\n",
       "</style>\n",
       "<table border=\"1\" class=\"dataframe\">\n",
       "  <thead>\n",
       "    <tr style=\"text-align: right;\">\n",
       "      <th>col_0</th>\n",
       "      <th>Total</th>\n",
       "    </tr>\n",
       "    <tr>\n",
       "      <th>source</th>\n",
       "      <th></th>\n",
       "    </tr>\n",
       "  </thead>\n",
       "  <tbody>\n",
       "    <tr>\n",
       "      <th>Langganan</th>\n",
       "      <td>12126</td>\n",
       "    </tr>\n",
       "    <tr>\n",
       "      <th>Google Businees/Maps</th>\n",
       "      <td>6102</td>\n",
       "    </tr>\n",
       "    <tr>\n",
       "      <th>Spanduk Toko</th>\n",
       "      <td>5830</td>\n",
       "    </tr>\n",
       "    <tr>\n",
       "      <th>Sparepart</th>\n",
       "      <td>3328</td>\n",
       "    </tr>\n",
       "    <tr>\n",
       "      <th>Facebook</th>\n",
       "      <td>3222</td>\n",
       "    </tr>\n",
       "    <tr>\n",
       "      <th>Teman</th>\n",
       "      <td>2904</td>\n",
       "    </tr>\n",
       "    <tr>\n",
       "      <th>Tokopedia</th>\n",
       "      <td>2888</td>\n",
       "    </tr>\n",
       "    <tr>\n",
       "      <th>Instagram</th>\n",
       "      <td>2324</td>\n",
       "    </tr>\n",
       "    <tr>\n",
       "      <th>OLX</th>\n",
       "      <td>2245</td>\n",
       "    </tr>\n",
       "    <tr>\n",
       "      <th>Google Pencarian</th>\n",
       "      <td>2022</td>\n",
       "    </tr>\n",
       "    <tr>\n",
       "      <th>CS Pusat (Andre)</th>\n",
       "      <td>972</td>\n",
       "    </tr>\n",
       "    <tr>\n",
       "      <th>Website</th>\n",
       "      <td>798</td>\n",
       "    </tr>\n",
       "    <tr>\n",
       "      <th>Komunitas</th>\n",
       "      <td>538</td>\n",
       "    </tr>\n",
       "    <tr>\n",
       "      <th>Grab Benefits</th>\n",
       "      <td>386</td>\n",
       "    </tr>\n",
       "    <tr>\n",
       "      <th>Bukalapak</th>\n",
       "      <td>386</td>\n",
       "    </tr>\n",
       "    <tr>\n",
       "      <th>Pameran</th>\n",
       "      <td>234</td>\n",
       "    </tr>\n",
       "    <tr>\n",
       "      <th>Remarketing</th>\n",
       "      <td>219</td>\n",
       "    </tr>\n",
       "    <tr>\n",
       "      <th>Shopee</th>\n",
       "      <td>154</td>\n",
       "    </tr>\n",
       "    <tr>\n",
       "      <th>Youtube</th>\n",
       "      <td>117</td>\n",
       "    </tr>\n",
       "    <tr>\n",
       "      <th>Blibli</th>\n",
       "      <td>110</td>\n",
       "    </tr>\n",
       "    <tr>\n",
       "      <th>Lazada</th>\n",
       "      <td>53</td>\n",
       "    </tr>\n",
       "    <tr>\n",
       "      <th>Sales</th>\n",
       "      <td>14</td>\n",
       "    </tr>\n",
       "    <tr>\n",
       "      <th>Ralali</th>\n",
       "      <td>7</td>\n",
       "    </tr>\n",
       "    <tr>\n",
       "      <th>PROMOSI</th>\n",
       "      <td>6</td>\n",
       "    </tr>\n",
       "  </tbody>\n",
       "</table>\n",
       "</div>"
      ],
      "text/plain": [
       "col_0                 Total\n",
       "source                     \n",
       "Langganan             12126\n",
       "Google Businees/Maps   6102\n",
       "Spanduk Toko           5830\n",
       "Sparepart              3328\n",
       "Facebook               3222\n",
       "Teman                  2904\n",
       "Tokopedia              2888\n",
       "Instagram              2324\n",
       "OLX                    2245\n",
       "Google Pencarian       2022\n",
       "CS Pusat (Andre)        972\n",
       "Website                 798\n",
       "Komunitas               538\n",
       "Grab Benefits           386\n",
       "Bukalapak               386\n",
       "Pameran                 234\n",
       "Remarketing             219\n",
       "Shopee                  154\n",
       "Youtube                 117\n",
       "Blibli                  110\n",
       "Lazada                   53\n",
       "Sales                    14\n",
       "Ralali                    7\n",
       "PROMOSI                   6"
      ]
     },
     "execution_count": 62,
     "metadata": {},
     "output_type": "execute_result"
    }
   ],
   "source": [
    "## use distribusi frequensi\n",
    "pd.crosstab(\n",
    "    index=data['source'],\n",
    "    columns='Total'\n",
    ").sort_values('Total',ascending=False)"
   ]
  },
  {
   "cell_type": "code",
   "execution_count": 41,
   "id": "secure-handle",
   "metadata": {
    "ExecuteTime": {
     "end_time": "2021-04-12T10:42:09.918684Z",
     "start_time": "2021-04-12T10:42:09.913757Z"
    }
   },
   "outputs": [],
   "source": [
    "data['source'] = data['source'].fillna('Langganan')"
   ]
  },
  {
   "cell_type": "code",
   "execution_count": 42,
   "id": "important-roberts",
   "metadata": {
    "ExecuteTime": {
     "end_time": "2021-04-12T10:42:12.591521Z",
     "start_time": "2021-04-12T10:42:12.551135Z"
    }
   },
   "outputs": [
    {
     "data": {
      "text/plain": [
       "number          0\n",
       "date            0\n",
       "customer    31647\n",
       "source          0\n",
       "store           0\n",
       "Day             0\n",
       "Month           0\n",
       "Period          0\n",
       "dtype: int64"
      ]
     },
     "execution_count": 42,
     "metadata": {},
     "output_type": "execute_result"
    }
   ],
   "source": [
    "data.isna().sum()"
   ]
  },
  {
   "cell_type": "code",
   "execution_count": 43,
   "id": "asian-clarity",
   "metadata": {
    "ExecuteTime": {
     "end_time": "2021-04-12T10:43:06.094540Z",
     "start_time": "2021-04-12T10:43:06.077591Z"
    }
   },
   "outputs": [],
   "source": [
    "data['customer'] = data['customer'].fillna('Missing')"
   ]
  },
  {
   "cell_type": "code",
   "execution_count": 44,
   "id": "external-freight",
   "metadata": {
    "ExecuteTime": {
     "end_time": "2021-04-12T10:43:07.597893Z",
     "start_time": "2021-04-12T10:43:07.551803Z"
    }
   },
   "outputs": [
    {
     "data": {
      "text/plain": [
       "number      0\n",
       "date        0\n",
       "customer    0\n",
       "source      0\n",
       "store       0\n",
       "Day         0\n",
       "Month       0\n",
       "Period      0\n",
       "dtype: int64"
      ]
     },
     "execution_count": 44,
     "metadata": {},
     "output_type": "execute_result"
    }
   ],
   "source": [
    "data.isna().sum()"
   ]
  },
  {
   "cell_type": "markdown",
   "id": "pretty-broadway",
   "metadata": {},
   "source": [
    "### Data Wrangling"
   ]
  },
  {
   "cell_type": "markdown",
   "id": "actual-president",
   "metadata": {
    "ExecuteTime": {
     "end_time": "2021-04-09T07:10:37.247617Z",
     "start_time": "2021-04-09T07:10:37.243162Z"
    }
   },
   "source": [
    "<b id='q1'>Business Question 1</b>\n",
    "\n",
    "berapa jumlah transaksi berdasarkan masing masing source"
   ]
  },
  {
   "cell_type": "code",
   "execution_count": 46,
   "id": "emotional-ticket",
   "metadata": {
    "ExecuteTime": {
     "end_time": "2021-04-12T10:46:08.302280Z",
     "start_time": "2021-04-12T10:46:08.244216Z"
    }
   },
   "outputs": [],
   "source": [
    "sources = pd.crosstab(\n",
    "    index=data['source'],\n",
    "    columns='Total Transaction',\n",
    ").sort_values('Total Transaction',ascending=False)"
   ]
  },
  {
   "cell_type": "markdown",
   "id": "wooden-reward",
   "metadata": {
    "ExecuteTime": {
     "end_time": "2021-04-09T07:11:54.545586Z",
     "start_time": "2021-04-09T07:11:54.541116Z"
    }
   },
   "source": [
    "<b id='q1'>Business Question 2</b>\n",
    "\n",
    "Berapa Frequensi transaksi dari masing masing bulan"
   ]
  },
  {
   "cell_type": "code",
   "execution_count": 47,
   "id": "exact-hungarian",
   "metadata": {
    "ExecuteTime": {
     "end_time": "2021-04-12T10:46:14.696428Z",
     "start_time": "2021-04-12T10:46:14.630905Z"
    }
   },
   "outputs": [],
   "source": [
    "count_month =pd.crosstab(\n",
    "    index=data['Month'], \n",
    "    columns='Count Month'\n",
    ")"
   ]
  },
  {
   "cell_type": "code",
   "execution_count": 48,
   "id": "lucky-sport",
   "metadata": {
    "ExecuteTime": {
     "end_time": "2021-04-12T10:46:17.698635Z",
     "start_time": "2021-04-12T10:46:17.652395Z"
    }
   },
   "outputs": [
    {
     "data": {
      "text/html": [
       "<div>\n",
       "<style scoped>\n",
       "    .dataframe tbody tr th:only-of-type {\n",
       "        vertical-align: middle;\n",
       "    }\n",
       "\n",
       "    .dataframe tbody tr th {\n",
       "        vertical-align: top;\n",
       "    }\n",
       "\n",
       "    .dataframe thead th {\n",
       "        text-align: right;\n",
       "    }\n",
       "</style>\n",
       "<table border=\"1\" class=\"dataframe\">\n",
       "  <thead>\n",
       "    <tr style=\"text-align: right;\">\n",
       "      <th>col_0</th>\n",
       "      <th>Period Total</th>\n",
       "    </tr>\n",
       "    <tr>\n",
       "      <th>Period</th>\n",
       "      <th></th>\n",
       "    </tr>\n",
       "  </thead>\n",
       "  <tbody>\n",
       "    <tr>\n",
       "      <th>2018Q3</th>\n",
       "      <td>12843</td>\n",
       "    </tr>\n",
       "    <tr>\n",
       "      <th>2018Q4</th>\n",
       "      <td>20048</td>\n",
       "    </tr>\n",
       "    <tr>\n",
       "      <th>2019Q1</th>\n",
       "      <td>20819</td>\n",
       "    </tr>\n",
       "    <tr>\n",
       "      <th>2019Q2</th>\n",
       "      <td>23506</td>\n",
       "    </tr>\n",
       "    <tr>\n",
       "      <th>2019Q3</th>\n",
       "      <td>23421</td>\n",
       "    </tr>\n",
       "    <tr>\n",
       "      <th>2019Q4</th>\n",
       "      <td>28401</td>\n",
       "    </tr>\n",
       "    <tr>\n",
       "      <th>2020Q1</th>\n",
       "      <td>24488</td>\n",
       "    </tr>\n",
       "    <tr>\n",
       "      <th>2020Q2</th>\n",
       "      <td>10</td>\n",
       "    </tr>\n",
       "    <tr>\n",
       "      <th>2020Q3</th>\n",
       "      <td>16</td>\n",
       "    </tr>\n",
       "    <tr>\n",
       "      <th>2020Q4</th>\n",
       "      <td>6</td>\n",
       "    </tr>\n",
       "    <tr>\n",
       "      <th>2021Q1</th>\n",
       "      <td>73</td>\n",
       "    </tr>\n",
       "  </tbody>\n",
       "</table>\n",
       "</div>"
      ],
      "text/plain": [
       "col_0   Period Total\n",
       "Period              \n",
       "2018Q3         12843\n",
       "2018Q4         20048\n",
       "2019Q1         20819\n",
       "2019Q2         23506\n",
       "2019Q3         23421\n",
       "2019Q4         28401\n",
       "2020Q1         24488\n",
       "2020Q2            10\n",
       "2020Q3            16\n",
       "2020Q4             6\n",
       "2021Q1            73"
      ]
     },
     "execution_count": 48,
     "metadata": {},
     "output_type": "execute_result"
    }
   ],
   "source": [
    "period_total = pd.crosstab(\n",
    "    index=data['Period'], \n",
    "    columns='Period Total',\n",
    ")\n",
    "\n",
    "period_total"
   ]
  },
  {
   "cell_type": "code",
   "execution_count": 49,
   "id": "satisfied-validation",
   "metadata": {
    "ExecuteTime": {
     "end_time": "2021-04-12T10:46:30.252198Z",
     "start_time": "2021-04-12T10:46:30.203117Z"
    }
   },
   "outputs": [],
   "source": [
    "count_day = pd.crosstab(\n",
    "    index=data['Day'],\n",
    "    columns='Total Transaction'\n",
    ").sort_values('Total Transaction',ascending=False)"
   ]
  },
  {
   "cell_type": "markdown",
   "id": "posted-canberra",
   "metadata": {
    "ExecuteTime": {
     "end_time": "2021-04-04T14:37:12.634907Z",
     "start_time": "2021-04-04T14:37:12.632036Z"
    }
   },
   "source": [
    "### Data Visualization"
   ]
  },
  {
   "cell_type": "code",
   "execution_count": 50,
   "id": "above-skill",
   "metadata": {
    "ExecuteTime": {
     "end_time": "2021-04-12T10:47:29.135622Z",
     "start_time": "2021-04-12T10:47:28.708124Z"
    }
   },
   "outputs": [],
   "source": [
    "import matplotlib.pyplot as plt"
   ]
  },
  {
   "cell_type": "code",
   "execution_count": 52,
   "id": "devoted-grant",
   "metadata": {
    "ExecuteTime": {
     "end_time": "2021-04-12T10:48:31.923454Z",
     "start_time": "2021-04-12T10:48:31.571834Z"
    }
   },
   "outputs": [
    {
     "data": {
      "text/plain": [
       "<AxesSubplot:title={'center':'Total Transaksi Berdasarkan Sumber Customer'}, ylabel='source'>"
      ]
     },
     "execution_count": 52,
     "metadata": {},
     "output_type": "execute_result"
    },
    {
     "data": {
      "image/png": "[encoded data removed]",
      "text/plain": [
       "<Figure size 432x288 with 1 Axes>"
      ]
     },
     "metadata": {
      "needs_background": "light"
     },
     "output_type": "display_data"
    }
   ],
   "source": [
    "sources.plot.barh(title='Total Transaksi Berdasarkan Sumber Customer')"
   ]
  },
  {
   "cell_type": "code",
   "execution_count": 113,
   "id": "massive-detroit",
   "metadata": {
    "ExecuteTime": {
     "end_time": "2021-04-11T07:23:23.607565Z",
     "start_time": "2021-04-11T07:23:23.375367Z"
    }
   },
   "outputs": [
    {
     "data": {
      "text/plain": [
       "<AxesSubplot:title={'center':'Total Transaksi Berdasarkan Bulan pada seluruh tahun'}, xlabel='Month'>"
      ]
     },
     "execution_count": 113,
     "metadata": {},
     "output_type": "execute_result"
    },
    {
     "data": {
      "image/png": "[encoded data removed]",
      "text/plain": [
       "<Figure size 432x288 with 1 Axes>"
      ]
     },
     "metadata": {
      "needs_background": "light"
     },
     "output_type": "display_data"
    }
   ],
   "source": [
    "count_month.plot.bar(title='Total Transaksi Berdasarkan Bulan pada seluruh tahun')"
   ]
  },
  {
   "cell_type": "code",
   "execution_count": 114,
   "id": "engaged-navigator",
   "metadata": {
    "ExecuteTime": {
     "end_time": "2021-04-11T07:24:00.469133Z",
     "start_time": "2021-04-11T07:24:00.262920Z"
    }
   },
   "outputs": [
    {
     "data": {
      "text/plain": [
       "<AxesSubplot:title={'center':'Total transaksi setiap periode Quarter'}, ylabel='Period'>"
      ]
     },
     "execution_count": 114,
     "metadata": {},
     "output_type": "execute_result"
    },
    {
     "data": {
      "image/png": "[encoded data removed]",
      "text/plain": [
       "<Figure size 432x288 with 1 Axes>"
      ]
     },
     "metadata": {
      "needs_background": "light"
     },
     "output_type": "display_data"
    }
   ],
   "source": [
    "period_total.plot.barh(title='Total transaksi setiap periode Quarter')"
   ]
  },
  {
   "cell_type": "code",
   "execution_count": 118,
   "id": "brief-wallet",
   "metadata": {
    "ExecuteTime": {
     "end_time": "2021-04-11T07:26:42.768745Z",
     "start_time": "2021-04-11T07:26:42.590717Z"
    }
   },
   "outputs": [
    {
     "data": {
      "text/plain": [
       "<AxesSubplot:xlabel='Day'>"
      ]
     },
     "execution_count": 118,
     "metadata": {},
     "output_type": "execute_result"
    },
    {
     "data": {
      "image/png": "[encoded data removed]",
      "text/plain": [
       "<Figure size 432x288 with 1 Axes>"
      ]
     },
     "metadata": {
      "needs_background": "light"
     },
     "output_type": "display_data"
    }
   ],
   "source": [
    "count_day.plot.bar()"
   ]
  },
  {
   "cell_type": "code",
   "execution_count": null,
   "id": "sunset-sharing",
   "metadata": {},
   "outputs": [],
   "source": []
  }
 ],
 "metadata": {
  "kernelspec": {
   "display_name": "git-class",
   "language": "python",
   "name": "git-class"
  },
  "language_info": {
   "codemirror_mode": {
    "name": "ipython",
    "version": 3
   },
   "file_extension": ".py",
   "mimetype": "text/x-python",
   "name": "python",
   "nbconvert_exporter": "python",
   "pygments_lexer": "ipython3",
   "version": "3.8.8"
  },
  "toc": {
   "base_numbering": 1,
   "nav_menu": {},
   "number_sections": true,
   "sideBar": true,
   "skip_h1_title": true,
   "title_cell": "Table of Contents",
   "title_sidebar": "Contents",
   "toc_cell": true,
   "toc_position": {},
   "toc_section_display": true,
   "toc_window_display": true
  },
  "varInspector": {
   "cols": {
    "lenName": 16,
    "lenType": 16,
    "lenVar": 40
   },
   "kernels_config": {
    "python": {
     "delete_cmd_postfix": "",
     "delete_cmd_prefix": "del ",
     "library": "var_list.py",
     "varRefreshCmd": "print(var_dic_list())"
    },
    "r": {
     "delete_cmd_postfix": ") ",
     "delete_cmd_prefix": "rm(",
     "library": "var_list.r",
     "varRefreshCmd": "cat(var_dic_list()) "
    }
   },
   "types_to_exclude": [
    "module",
    "function",
    "builtin_function_or_method",
    "instance",
    "_Feature"
   ],
   "window_display": false
  }
 },
 "nbformat": 4,
 "nbformat_minor": 5
}

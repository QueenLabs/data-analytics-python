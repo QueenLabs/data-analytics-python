{
 "cells": [
  {
   "cell_type": "markdown",
   "id": "received-pathology",
   "metadata": {
    "toc": true
   },
   "source": [
    "<h1>Table of Contents<span class=\"tocSkip\"></span></h1>\n",
    "<div class=\"toc\"><ul class=\"toc-item\"><li><span><a href=\"#GITS-CLASS\" data-toc-modified-id=\"GITS-CLASS-1\"><span class=\"toc-item-num\">1&nbsp;&nbsp;</span>GITS CLASS</a></span><ul class=\"toc-item\"><li><span><a href=\"#Data-Processing\" data-toc-modified-id=\"Data-Processing-1.1\"><span class=\"toc-item-num\">1.1&nbsp;&nbsp;</span>Data Processing</a></span><ul class=\"toc-item\"><li><span><a href=\"#Load-Data-Source\" data-toc-modified-id=\"Load-Data-Source-1.1.1\"><span class=\"toc-item-num\">1.1.1&nbsp;&nbsp;</span>Load Data Source</a></span></li><li><span><a href=\"#check-only-type-data-pandas\" data-toc-modified-id=\"check-only-type-data-pandas-1.1.2\"><span class=\"toc-item-num\">1.1.2&nbsp;&nbsp;</span>check only type data pandas</a></span></li><li><span><a href=\"#Working-With-datetime\" data-toc-modified-id=\"Working-With-datetime-1.1.3\"><span class=\"toc-item-num\">1.1.3&nbsp;&nbsp;</span>Working With datetime</a></span><ul class=\"toc-item\"><li><span><a href=\"#Convert-to-Datetime\" data-toc-modified-id=\"Convert-to-Datetime-1.1.3.1\"><span class=\"toc-item-num\">1.1.3.1&nbsp;&nbsp;</span>Convert to Datetime</a></span></li></ul></li></ul></li><li><span><a href=\"#Data-Wrangling\" data-toc-modified-id=\"Data-Wrangling-1.2\"><span class=\"toc-item-num\">1.2&nbsp;&nbsp;</span>Data Wrangling</a></span></li><li><span><a href=\"#Data-Visualization\" data-toc-modified-id=\"Data-Visualization-1.3\"><span class=\"toc-item-num\">1.3&nbsp;&nbsp;</span>Data Visualization</a></span></li></ul></li></ul></div>"
   ]
  },
  {
   "cell_type": "markdown",
   "id": "pleasant-horror",
   "metadata": {},
   "source": [
    "## GITS CLASS"
   ]
  },
  {
   "cell_type": "markdown",
   "id": "balanced-remains",
   "metadata": {},
   "source": [
    "### Data Processing"
   ]
  },
  {
   "cell_type": "markdown",
   "id": "incomplete-console",
   "metadata": {},
   "source": [
    "#### Load Data Source"
   ]
  },
  {
   "cell_type": "code",
   "execution_count": 12,
   "id": "surprised-notice",
   "metadata": {
    "ExecuteTime": {
     "end_time": "2021-04-05T14:47:57.533341Z",
     "start_time": "2021-04-05T14:47:57.308844Z"
    }
   },
   "outputs": [
    {
     "name": "stderr",
     "output_type": "stream",
     "text": [
      "/Users/queen/opt/miniconda3/envs/git-class/lib/python3.8/site-packages/IPython/core/interactiveshell.py:3165: DtypeWarning: Columns (3) have mixed types.Specify dtype option on import or set low_memory=False.\n",
      "  has_raised = await self.run_ast_nodes(code_ast.body, cell_name,\n"
     ]
    }
   ],
   "source": [
    "import pandas as pd\n",
    "\n",
    "#\n",
    "data = pd.read_csv(\"data_customer_sellout.csv\");"
   ]
  },
  {
   "cell_type": "code",
   "execution_count": 13,
   "id": "saved-penalty",
   "metadata": {
    "ExecuteTime": {
     "end_time": "2021-04-05T14:48:01.021768Z",
     "start_time": "2021-04-05T14:48:01.012359Z"
    }
   },
   "outputs": [
    {
     "data": {
      "text/html": [
       "<div>\n",
       "<style scoped>\n",
       "    .dataframe tbody tr th:only-of-type {\n",
       "        vertical-align: middle;\n",
       "    }\n",
       "\n",
       "    .dataframe tbody tr th {\n",
       "        vertical-align: top;\n",
       "    }\n",
       "\n",
       "    .dataframe thead th {\n",
       "        text-align: right;\n",
       "    }\n",
       "</style>\n",
       "<table border=\"1\" class=\"dataframe\">\n",
       "  <thead>\n",
       "    <tr style=\"text-align: right;\">\n",
       "      <th></th>\n",
       "      <th>number</th>\n",
       "      <th>date</th>\n",
       "      <th>customer</th>\n",
       "      <th>source</th>\n",
       "      <th>store</th>\n",
       "    </tr>\n",
       "  </thead>\n",
       "  <tbody>\n",
       "    <tr>\n",
       "      <th>0</th>\n",
       "      <td>SO-RJ-079482</td>\n",
       "      <td>2021-03-25</td>\n",
       "      <td>ELFAS</td>\n",
       "      <td>Bukalapak</td>\n",
       "      <td>RAJAWALI</td>\n",
       "    </tr>\n",
       "    <tr>\n",
       "      <th>1</th>\n",
       "      <td>SO-RJ-660201</td>\n",
       "      <td>2021-03-24</td>\n",
       "      <td>ASEP</td>\n",
       "      <td>CS Pusat (Andre)</td>\n",
       "      <td>RAJAWALI</td>\n",
       "    </tr>\n",
       "    <tr>\n",
       "      <th>2</th>\n",
       "      <td>SO-RJ-716739</td>\n",
       "      <td>2021-03-23</td>\n",
       "      <td>HERMAWANTO</td>\n",
       "      <td>Facebook</td>\n",
       "      <td>RAJAWALI</td>\n",
       "    </tr>\n",
       "    <tr>\n",
       "      <th>3</th>\n",
       "      <td>SO-RJ-819431</td>\n",
       "      <td>2021-03-23</td>\n",
       "      <td>ZULMI</td>\n",
       "      <td>Bukalapak</td>\n",
       "      <td>RAJAWALI</td>\n",
       "    </tr>\n",
       "    <tr>\n",
       "      <th>4</th>\n",
       "      <td>SO-RJ-631156</td>\n",
       "      <td>2021-03-23</td>\n",
       "      <td>ALBERTUS PURNOMO RIYANTO</td>\n",
       "      <td>Pameran</td>\n",
       "      <td>RAJAWALI</td>\n",
       "    </tr>\n",
       "  </tbody>\n",
       "</table>\n",
       "</div>"
      ],
      "text/plain": [
       "         number        date                  customer            source  \\\n",
       "0  SO-RJ-079482  2021-03-25                     ELFAS         Bukalapak   \n",
       "1  SO-RJ-660201  2021-03-24                      ASEP  CS Pusat (Andre)   \n",
       "2  SO-RJ-716739  2021-03-23                HERMAWANTO          Facebook   \n",
       "3  SO-RJ-819431  2021-03-23                     ZULMI         Bukalapak   \n",
       "4  SO-RJ-631156  2021-03-23  ALBERTUS PURNOMO RIYANTO           Pameran   \n",
       "\n",
       "      store  \n",
       "0  RAJAWALI  \n",
       "1  RAJAWALI  \n",
       "2  RAJAWALI  \n",
       "3  RAJAWALI  \n",
       "4  RAJAWALI  "
      ]
     },
     "execution_count": 13,
     "metadata": {},
     "output_type": "execute_result"
    }
   ],
   "source": [
    "# read data after load ( Data Frame )"
   ]
  },
  {
   "cell_type": "code",
   "execution_count": 11,
   "id": "optical-slave",
   "metadata": {
    "ExecuteTime": {
     "end_time": "2021-04-05T14:47:37.841826Z",
     "start_time": "2021-04-05T14:47:37.793399Z"
    }
   },
   "outputs": [
    {
     "name": "stdout",
     "output_type": "stream",
     "text": [
      "<class 'pandas.core.frame.DataFrame'>\n",
      "RangeIndex: 153631 entries, 0 to 153630\n",
      "Data columns (total 5 columns):\n",
      " #   Column    Non-Null Count   Dtype \n",
      "---  ------    --------------   ----- \n",
      " 0   number    153631 non-null  object\n",
      " 1   date      153631 non-null  object\n",
      " 2   customer  121984 non-null  object\n",
      " 3   source    46985 non-null   object\n",
      " 4   store     153631 non-null  object\n",
      "dtypes: object(5)\n",
      "memory usage: 5.9+ MB\n"
     ]
    }
   ],
   "source": [
    "## check information about data type, size\n"
   ]
  },
  {
   "cell_type": "markdown",
   "id": "surface-collaboration",
   "metadata": {
    "ExecuteTime": {
     "end_time": "2021-04-05T14:48:53.810750Z",
     "start_time": "2021-04-05T14:48:53.803400Z"
    }
   },
   "source": [
    "#### check only type data pandas\n",
    "data.dtypes"
   ]
  },
  {
   "cell_type": "code",
   "execution_count": null,
   "id": "stock-stretch",
   "metadata": {},
   "outputs": [],
   "source": [
    "#change type data columns"
   ]
  },
  {
   "cell_type": "code",
   "execution_count": null,
   "id": "transparent-biology",
   "metadata": {},
   "outputs": [],
   "source": [
    "#check memory usage from data frame load"
   ]
  },
  {
   "cell_type": "markdown",
   "id": "north-belfast",
   "metadata": {},
   "source": [
    "#### Working With datetime"
   ]
  },
  {
   "cell_type": "markdown",
   "id": "humanitarian-prague",
   "metadata": {
    "ExecuteTime": {
     "end_time": "2021-04-05T14:58:25.351208Z",
     "start_time": "2021-04-05T14:58:25.347096Z"
    }
   },
   "source": [
    "##### Convert to Datetime\n",
    "\n",
    "There are three common ways for us to convert data type into `datetime64`:"
   ]
  },
  {
   "cell_type": "code",
   "execution_count": null,
   "id": "approved-handy",
   "metadata": {},
   "outputs": [],
   "source": [
    "# with astype"
   ]
  },
  {
   "cell_type": "code",
   "execution_count": null,
   "id": "fatal-helmet",
   "metadata": {},
   "outputs": [],
   "source": [
    "# with parameter parse_dates"
   ]
  },
  {
   "cell_type": "code",
   "execution_count": 16,
   "id": "raised-radical",
   "metadata": {
    "ExecuteTime": {
     "end_time": "2021-04-05T15:04:42.766842Z",
     "start_time": "2021-04-05T15:04:42.764594Z"
    }
   },
   "outputs": [],
   "source": [
    "# with `pd.to_datetime()`"
   ]
  },
  {
   "cell_type": "markdown",
   "id": "pretty-broadway",
   "metadata": {},
   "source": [
    "### Data Wrangling"
   ]
  },
  {
   "cell_type": "markdown",
   "id": "posted-canberra",
   "metadata": {
    "ExecuteTime": {
     "end_time": "2021-04-04T14:37:12.634907Z",
     "start_time": "2021-04-04T14:37:12.632036Z"
    }
   },
   "source": [
    "### Data Visualization"
   ]
  },
  {
   "cell_type": "code",
   "execution_count": null,
   "id": "above-skill",
   "metadata": {},
   "outputs": [],
   "source": []
  }
 ],
 "metadata": {
  "kernelspec": {
   "display_name": "git-class",
   "language": "python",
   "name": "git-class"
  },
  "language_info": {
   "codemirror_mode": {
    "name": "ipython",
    "version": 3
   },
   "file_extension": ".py",
   "mimetype": "text/x-python",
   "name": "python",
   "nbconvert_exporter": "python",
   "pygments_lexer": "ipython3",
   "version": "3.8.8"
  },
  "toc": {
   "base_numbering": 1,
   "nav_menu": {},
   "number_sections": true,
   "sideBar": true,
   "skip_h1_title": true,
   "title_cell": "Table of Contents",
   "title_sidebar": "Contents",
   "toc_cell": true,
   "toc_position": {},
   "toc_section_display": true,
   "toc_window_display": true
  },
  "varInspector": {
   "cols": {
    "lenName": 16,
    "lenType": 16,
    "lenVar": 40
   },
   "kernels_config": {
    "python": {
     "delete_cmd_postfix": "",
     "delete_cmd_prefix": "del ",
     "library": "var_list.py",
     "varRefreshCmd": "print(var_dic_list())"
    },
    "r": {
     "delete_cmd_postfix": ") ",
     "delete_cmd_prefix": "rm(",
     "library": "var_list.r",
     "varRefreshCmd": "cat(var_dic_list()) "
    }
   },
   "types_to_exclude": [
    "module",
    "function",
    "builtin_function_or_method",
    "instance",
    "_Feature"
   ],
   "window_display": false
  }
 },
 "nbformat": 4,
 "nbformat_minor": 5
}

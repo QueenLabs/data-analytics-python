{
 "cells": [
  {
   "cell_type": "markdown",
   "id": "received-pathology",
   "metadata": {
    "toc": true
   },
   "source": [
    "<h1>Table of Contents<span class=\"tocSkip\"></span></h1>\n",
    "<div class=\"toc\"><ul class=\"toc-item\"><li><span><a href=\"#GIT-CLASS\" data-toc-modified-id=\"GIT-CLASS-1\"><span class=\"toc-item-num\">1&nbsp;&nbsp;</span>GIT CLASS</a></span><ul class=\"toc-item\"><li><span><a href=\"#Data-Processing\" data-toc-modified-id=\"Data-Processing-1.1\"><span class=\"toc-item-num\">1.1&nbsp;&nbsp;</span>Data Processing</a></span></li><li><span><a href=\"#Data-Wrangling\" data-toc-modified-id=\"Data-Wrangling-1.2\"><span class=\"toc-item-num\">1.2&nbsp;&nbsp;</span>Data Wrangling</a></span></li><li><span><a href=\"#Data-Visualization\" data-toc-modified-id=\"Data-Visualization-1.3\"><span class=\"toc-item-num\">1.3&nbsp;&nbsp;</span>Data Visualization</a></span></li></ul></li></ul></div>"
   ]
  },
  {
   "cell_type": "markdown",
   "id": "pleasant-horror",
   "metadata": {},
   "source": [
    "## GIT CLASS"
   ]
  },
  {
   "cell_type": "markdown",
   "id": "balanced-remains",
   "metadata": {},
   "source": [
    "### Data Processing"
   ]
  },
  {
   "cell_type": "markdown",
   "id": "pretty-broadway",
   "metadata": {},
   "source": [
    "### Data Wrangling"
   ]
  },
  {
   "cell_type": "markdown",
   "id": "posted-canberra",
   "metadata": {
    "ExecuteTime": {
     "end_time": "2021-04-04T14:37:12.634907Z",
     "start_time": "2021-04-04T14:37:12.632036Z"
    }
   },
   "source": [
    "### Data Visualization"
   ]
  },
  {
   "cell_type": "code",
   "execution_count": null,
   "id": "above-skill",
   "metadata": {},
   "outputs": [],
   "source": []
  }
 ],
 "metadata": {
  "kernelspec": {
   "display_name": "git-class",
   "language": "python",
   "name": "git-class"
  },
  "language_info": {
   "codemirror_mode": {
    "name": "ipython",
    "version": 3
   },
   "file_extension": ".py",
   "mimetype": "text/x-python",
   "name": "python",
   "nbconvert_exporter": "python",
   "pygments_lexer": "ipython3",
   "version": "3.8.8"
  },
  "toc": {
   "base_numbering": 1,
   "nav_menu": {},
   "number_sections": true,
   "sideBar": true,
   "skip_h1_title": true,
   "title_cell": "Table of Contents",
   "title_sidebar": "Contents",
   "toc_cell": true,
   "toc_position": {},
   "toc_section_display": true,
   "toc_window_display": true
  },
  "varInspector": {
   "cols": {
    "lenName": 16,
    "lenType": 16,
    "lenVar": 40
   },
   "kernels_config": {
    "python": {
     "delete_cmd_postfix": "",
     "delete_cmd_prefix": "del ",
     "library": "var_list.py",
     "varRefreshCmd": "print(var_dic_list())"
    },
    "r": {
     "delete_cmd_postfix": ") ",
     "delete_cmd_prefix": "rm(",
     "library": "var_list.r",
     "varRefreshCmd": "cat(var_dic_list()) "
    }
   },
   "types_to_exclude": [
    "module",
    "function",
    "builtin_function_or_method",
    "instance",
    "_Feature"
   ],
   "window_display": false
  }
 },
 "nbformat": 4,
 "nbformat_minor": 5
}
